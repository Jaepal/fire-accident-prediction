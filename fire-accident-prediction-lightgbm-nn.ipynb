{
 "cells": [
  {
   "cell_type": "code",
   "execution_count": 1,
   "metadata": {},
   "outputs": [
    {
     "name": "stderr",
     "output_type": "stream",
     "text": [
      "C:\\Users\\Lee\\Anaconda3\\lib\\site-packages\\tensorflow\\python\\framework\\dtypes.py:523: FutureWarning: Passing (type, 1) or '1type' as a synonym of type is deprecated; in a future version of numpy, it will be understood as (type, (1,)) / '(1,)type'.\n",
      "  _np_qint8 = np.dtype([(\"qint8\", np.int8, 1)])\n",
      "C:\\Users\\Lee\\Anaconda3\\lib\\site-packages\\tensorflow\\python\\framework\\dtypes.py:524: FutureWarning: Passing (type, 1) or '1type' as a synonym of type is deprecated; in a future version of numpy, it will be understood as (type, (1,)) / '(1,)type'.\n",
      "  _np_quint8 = np.dtype([(\"quint8\", np.uint8, 1)])\n",
      "C:\\Users\\Lee\\Anaconda3\\lib\\site-packages\\tensorflow\\python\\framework\\dtypes.py:525: FutureWarning: Passing (type, 1) or '1type' as a synonym of type is deprecated; in a future version of numpy, it will be understood as (type, (1,)) / '(1,)type'.\n",
      "  _np_qint16 = np.dtype([(\"qint16\", np.int16, 1)])\n",
      "C:\\Users\\Lee\\Anaconda3\\lib\\site-packages\\tensorflow\\python\\framework\\dtypes.py:526: FutureWarning: Passing (type, 1) or '1type' as a synonym of type is deprecated; in a future version of numpy, it will be understood as (type, (1,)) / '(1,)type'.\n",
      "  _np_quint16 = np.dtype([(\"quint16\", np.uint16, 1)])\n",
      "C:\\Users\\Lee\\Anaconda3\\lib\\site-packages\\tensorflow\\python\\framework\\dtypes.py:527: FutureWarning: Passing (type, 1) or '1type' as a synonym of type is deprecated; in a future version of numpy, it will be understood as (type, (1,)) / '(1,)type'.\n",
      "  _np_qint32 = np.dtype([(\"qint32\", np.int32, 1)])\n",
      "C:\\Users\\Lee\\Anaconda3\\lib\\site-packages\\tensorflow\\python\\framework\\dtypes.py:532: FutureWarning: Passing (type, 1) or '1type' as a synonym of type is deprecated; in a future version of numpy, it will be understood as (type, (1,)) / '(1,)type'.\n",
      "  np_resource = np.dtype([(\"resource\", np.ubyte, 1)])\n",
      "C:\\Users\\Lee\\Anaconda3\\lib\\site-packages\\h5py\\__init__.py:36: FutureWarning: Conversion of the second argument of issubdtype from `float` to `np.floating` is deprecated. In future, it will be treated as `np.float64 == np.dtype(float).type`.\n",
      "  from ._conv import register_converters as _register_converters\n",
      "Using TensorFlow backend.\n"
     ]
    }
   ],
   "source": [
    "import numpy as np\n",
    "import pandas as pd\n",
    "\n",
    "from sklearn.model_selection import StratifiedKFold\n",
    "from sklearn.metrics import f1_score\n",
    "\n",
    "import lightgbm as lgb\n",
    "\n",
    "import gc\n",
    "import os\n",
    "\n",
    "from tqdm import tqdm\n",
    "\n",
    "import matplotlib.pyplot as plt\n",
    "import seaborn as sns\n",
    "\n",
    "gc.enable()\n",
    "\n",
    "import tensorflow as tf\n",
    "config = tf.ConfigProto()\n",
    "config.gpu_options.allow_growth=True\n",
    "sess = tf.Session(config=config)\n",
    "\n",
    "from keras.models import Sequential, Model\n",
    "from keras.layers import Dense, Dropout, BatchNormalization, Flatten, Input, Concatenate, Embedding, Reshape\n",
    "from keras.layers import LeakyReLU\n",
    "from keras.callbacks import ModelCheckpoint, ReduceLROnPlateau, EarlyStopping\n",
    "from keras.layers.advanced_activations import PReLU\n",
    "\n",
    "from numpy.random import seed\n",
    "from tensorflow import set_random_seed\n",
    "\n",
    "from sklearn.preprocessing import StandardScaler\n",
    "from sklearn.preprocessing import LabelEncoder\n",
    "\n",
    "from scipy import sparse"
   ]
  },
  {
   "cell_type": "code",
   "execution_count": 2,
   "metadata": {},
   "outputs": [
    {
     "name": "stderr",
     "output_type": "stream",
     "text": [
      "C:\\Users\\Lee\\Anaconda3\\lib\\site-packages\\IPython\\core\\interactiveshell.py:2785: DtypeWarning: Columns (8,172,173,174,175,176,177,178,179) have mixed types. Specify dtype option on import or set low_memory=False.\n",
      "  interactivity=interactivity, compiler=compiler, result=result)\n"
     ]
    }
   ],
   "source": [
    "df_train = pd.read_csv('./data/PJT002_train.csv')\n",
    "df_valid = pd.read_csv('./data/PJT002_validation.csv')\n",
    "df_test = pd.read_csv('./data/PJT002_test.csv')"
   ]
  },
  {
   "cell_type": "code",
   "execution_count": 3,
   "metadata": {},
   "outputs": [
    {
     "name": "stdout",
     "output_type": "stream",
     "text": [
      "[9990624.0 9900712.0 '9820930.0' 9800808.0 9780421.0 971215.0 '20022 27'\n",
      " 1890010.0 1890010.0 1994000.0]\n"
     ]
    },
    {
     "data": {
      "text/plain": [
       "26351    19990624\n",
       "21218    19900712\n",
       "30954    19820930\n",
       "12642    19800808\n",
       "38448    19780421\n",
       "53193    19971215\n",
       "32635    20020227\n",
       "19165    18900101\n",
       "19172    18900101\n",
       "46872    19940000\n",
       "Name: dt_of_athrztn, dtype: object"
      ]
     },
     "execution_count": 3,
     "metadata": {},
     "output_type": "execute_result"
    }
   ],
   "source": [
    "# dt_of_athrztn 데이터 오타 정정\n",
    "\n",
    "athrztn_error_idx = ['26351', '21218', '30954', '12642', '38448', '53193', '32635', '19165', '19172', '46872']\n",
    "athrztn_error_fix = ['19990624', '19900712', '19820930', '19800808', '19780421', '19971215', '20020227', '18900101', '18900101', '19940000']\n",
    "athrztn_error_value = df_train['dt_of_athrztn'].iloc[athrztn_error_idx].values\n",
    "print(athrztn_error_value)\n",
    "df_train['dt_of_athrztn'].replace(athrztn_error_value, athrztn_error_fix, inplace=True)\n",
    "df_train['dt_of_athrztn'].iloc[athrztn_error_idx]"
   ]
  },
  {
   "cell_type": "code",
   "execution_count": 4,
   "metadata": {},
   "outputs": [
    {
     "name": "stderr",
     "output_type": "stream",
     "text": [
      "C:\\Users\\Lee\\Anaconda3\\lib\\site-packages\\ipykernel_launcher.py:2: FutureWarning: Sorting because non-concatenation axis is not aligned. A future version\n",
      "of pandas will change to not sort by default.\n",
      "\n",
      "To accept the future behavior, pass 'sort=False'.\n",
      "\n",
      "To retain the current behavior and silence the warning, pass 'sort=True'.\n",
      "\n",
      "  \n"
     ]
    }
   ],
   "source": [
    "df_test['fr_yn'] = np.nan\n",
    "df_all = pd.concat([df_train, df_valid, df_test], axis=0)\n",
    "df_all.reset_index(drop=True, inplace=True)"
   ]
  },
  {
   "cell_type": "code",
   "execution_count": 5,
   "metadata": {
    "scrolled": false
   },
   "outputs": [
    {
     "name": "stdout",
     "output_type": "stream",
     "text": [
      "(59199, 180)\n",
      "(6898, 180)\n",
      "(2957, 180)\n"
     ]
    }
   ],
   "source": [
    "print(df_train.shape)\n",
    "print(df_valid.shape)\n",
    "print(df_test.shape)"
   ]
  },
  {
   "cell_type": "code",
   "execution_count": 6,
   "metadata": {},
   "outputs": [
    {
     "data": {
      "text/plain": [
       "array(['N', 'Y'], dtype=object)"
      ]
     },
     "execution_count": 6,
     "metadata": {},
     "output_type": "execute_result"
    }
   ],
   "source": [
    "np.unique(df_train['fr_yn'])"
   ]
  },
  {
   "cell_type": "markdown",
   "metadata": {},
   "source": [
    "## 3.1. column 분류"
   ]
  },
  {
   "cell_type": "code",
   "execution_count": 7,
   "metadata": {
    "scrolled": true
   },
   "outputs": [
    {
     "data": {
      "text/plain": [
       "180"
      ]
     },
     "execution_count": 7,
     "metadata": {},
     "output_type": "execute_result"
    }
   ],
   "source": [
    "columns = df_all.columns\n",
    "len(columns)"
   ]
  },
  {
   "cell_type": "code",
   "execution_count": 8,
   "metadata": {},
   "outputs": [],
   "source": [
    "# 시간 변수\n",
    "\n",
    "time_columns = ['dt_of_fr', 'dt_of_athrztn']\n",
    "\n",
    "# 이진 변수\n",
    "\n",
    "binary_columns = ['fr_yn', 'mlt_us_yn', 'fr_fghtng_fclt_spcl_css_5_yn', 'fr_fghtng_fclt_spcl_css_6_yn', 'dngrs_thng_yn', 'slf_fr_brgd_yn',\n",
    "           'blk_dngrs_thng_mnfctr_yn', 'cltrl_hrtg_yn']\n",
    "\n",
    "# 범주형 변수\n",
    "\n",
    "category_columns = ['bldng_us', 'bldng_archtctr', 'bldng_us_clssfctn', 'jmk', 'rgnl_ar_nm', 'rgnl_ar_nm2', 'lnd_us_sttn_nm', 'rd_sd_nm',\n",
    "                    'emd_nm', 'trgt_crtr', 'us_yn']\n",
    "\n",
    "# 정수형 변수\n",
    "\n",
    "integer_columns = ['bldng_cnt', 'ttl_grnd_flr', 'ttl_dwn_flr', 'wnd_drctn', 'hmdt', 'hm_cnt', 'fr_sttn_dstnc', 'bldng_ar_prc',\n",
    "                   'fr_wthr_fclt_dstnc', 'fr_mn_cnt', 'cctv_dstnc', 'fr_wthr_fclt_in_100m', 'cctv_in_100m', 'tbc_rtl_str_dstnc',\n",
    "                   'sft_emrgnc_bll_dstnc', 'ahsm_dstnc', 'no_tbc_zn_dstnc', 'bldng_cnt_in_50m']\n",
    "\n",
    "# 소수형 변수\n",
    "\n",
    "floats_columns = ['bldng_ar', 'ttl_ar', 'lnd_ar', 'tmprtr', 'prcpttn', 'wnd_spd']\n",
    "\n",
    "gas_ele_columns = ['gas_engry_us_201401', 'ele_engry_us_201401', 'gas_engry_us_201402', 'ele_engry_us_201402',\n",
    "                   'gas_engry_us_201403', 'ele_engry_us_201403', 'gas_engry_us_201404', 'ele_engry_us_201404',\n",
    "                   'gas_engry_us_201405', 'ele_engry_us_201405', 'gas_engry_us_201406', 'ele_engry_us_201406',\n",
    "                   'gas_engry_us_201407', 'ele_engry_us_201407', 'gas_engry_us_201408', 'ele_engry_us_201408',\n",
    "                   'gas_engry_us_201409', 'ele_engry_us_201409', 'gas_engry_us_201410', 'ele_engry_us_201410',\n",
    "                   'gas_engry_us_201411', 'ele_engry_us_201411', 'gas_engry_us_201412', 'ele_engry_us_201412',\n",
    "                   'gas_engry_us_201501', 'ele_engry_us_201501', 'gas_engry_us_201502', 'ele_engry_us_201502',\n",
    "                   'gas_engry_us_201503', 'ele_engry_us_201503', 'gas_engry_us_201504', 'ele_engry_us_201504',\n",
    "                   'gas_engry_us_201505', 'ele_engry_us_201505', 'gas_engry_us_201506', 'ele_engry_us_201506',\n",
    "                   'gas_engry_us_201507', 'ele_engry_us_201507', 'gas_engry_us_201508', 'ele_engry_us_201508',\n",
    "                   'gas_engry_us_201509', 'ele_engry_us_201509', 'gas_engry_us_201510', 'ele_engry_us_201510',\n",
    "                   'gas_engry_us_201511', 'ele_engry_us_201511', 'gas_engry_us_201512', 'ele_engry_us_201512',\n",
    "                   'gas_engry_us_201601', 'ele_engry_us_201601', 'gas_engry_us_201602', 'ele_engry_us_201602',\n",
    "                   'gas_engry_us_201603', 'ele_engry_us_201603', 'gas_engry_us_201604', 'ele_engry_us_201604',\n",
    "                   'gas_engry_us_201605', 'ele_engry_us_201605', 'gas_engry_us_201606', 'ele_engry_us_201606',\n",
    "                   'gas_engry_us_201607', 'ele_engry_us_201607', 'gas_engry_us_201608', 'ele_engry_us_201608',\n",
    "                   'gas_engry_us_201609', 'ele_engry_us_201609', 'gas_engry_us_201610', 'ele_engry_us_201610',\n",
    "                   'gas_engry_us_201611', 'ele_engry_us_201611', 'gas_engry_us_201612', 'ele_engry_us_201612',\n",
    "                   'gas_engry_us_201701', 'ele_engry_us_201701', 'gas_engry_us_201702', 'ele_engry_us_201702',\n",
    "                   'gas_engry_us_201703', 'ele_engry_us_201703', 'gas_engry_us_201704', 'ele_engry_us_201704',\n",
    "                   'gas_engry_us_201705', 'ele_engry_us_201705', 'gas_engry_us_201706', 'ele_engry_us_201706',\n",
    "                   'gas_engry_us_201707', 'ele_engry_us_201707', 'gas_engry_us_201708', 'ele_engry_us_201708',\n",
    "                   'gas_engry_us_201709', 'ele_engry_us_201709', 'gas_engry_us_201710', 'ele_engry_us_201710',\n",
    "                   'gas_engry_us_201711', 'ele_engry_us_201711', 'gas_engry_us_201712', 'ele_engry_us_201712',\n",
    "                   'gas_engry_us_201801', 'ele_engry_us_201801', 'gas_engry_us_201802', 'ele_engry_us_201802',\n",
    "                   'gas_engry_us_201803', 'ele_engry_us_201803', 'gas_engry_us_201804', 'ele_engry_us_201804',\n",
    "                   'gas_engry_us_201805', 'ele_engry_us_201805', 'gas_engry_us_201806', 'ele_engry_us_201806',\n",
    "                   'gas_engry_us_201807', 'ele_engry_us_201807', 'gas_engry_us_201808', 'ele_engry_us_201808',\n",
    "                   'gas_engry_us_201809', 'ele_engry_us_201809', 'gas_engry_us_201810', 'ele_engry_us_201810',\n",
    "                   'gas_engry_us_201811', 'ele_engry_us_201811', 'gas_engry_us_201812', 'ele_engry_us_201812']\n",
    "\n",
    "lw_columns = ['lw_13101010', 'lw_13101110', 'lw_13101210', 'lw_13101211', 'lw_13101310', 'lw_13101410', 'lw_13111010',\n",
    "              'lw_13111110', 'lw_13121010', 'lw_13121011', 'lw_13131010', 'lw_13131110', 'lw_13141010', 'lw_13141011']"
   ]
  },
  {
   "cell_type": "code",
   "execution_count": 9,
   "metadata": {},
   "outputs": [],
   "source": [
    "useless_columns = ['id']"
   ]
  },
  {
   "cell_type": "code",
   "execution_count": 10,
   "metadata": {
    "scrolled": false
   },
   "outputs": [
    {
     "data": {
      "text/plain": [
       "180"
      ]
     },
     "execution_count": 10,
     "metadata": {},
     "output_type": "execute_result"
    }
   ],
   "source": [
    "len(time_columns + binary_columns + category_columns + integer_columns + floats_columns + gas_ele_columns + lw_columns + useless_columns)"
   ]
  },
  {
   "cell_type": "code",
   "execution_count": 11,
   "metadata": {},
   "outputs": [],
   "source": [
    "df_all.drop(useless_columns, axis=1, inplace=True)"
   ]
  },
  {
   "cell_type": "markdown",
   "metadata": {},
   "source": [
    "## 3.2 데이터 타입 정정 &결측값 대체 "
   ]
  },
  {
   "cell_type": "markdown",
   "metadata": {},
   "source": [
    "### 3.2.1 binary"
   ]
  },
  {
   "cell_type": "code",
   "execution_count": 12,
   "metadata": {},
   "outputs": [],
   "source": [
    "binary_y = {'N': 0, 'Y': 1}\n",
    "\n",
    "for col in binary_columns:\n",
    "    df_all[col] = df_all[col].map(binary_y)"
   ]
  },
  {
   "cell_type": "code",
   "execution_count": 13,
   "metadata": {},
   "outputs": [
    {
     "data": {
      "text/html": [
       "<div>\n",
       "<style scoped>\n",
       "    .dataframe tbody tr th:only-of-type {\n",
       "        vertical-align: middle;\n",
       "    }\n",
       "\n",
       "    .dataframe tbody tr th {\n",
       "        vertical-align: top;\n",
       "    }\n",
       "\n",
       "    .dataframe thead th {\n",
       "        text-align: right;\n",
       "    }\n",
       "</style>\n",
       "<table border=\"1\" class=\"dataframe\">\n",
       "  <thead>\n",
       "    <tr style=\"text-align: right;\">\n",
       "      <th></th>\n",
       "      <th>fr_yn</th>\n",
       "      <th>mlt_us_yn</th>\n",
       "      <th>fr_fghtng_fclt_spcl_css_5_yn</th>\n",
       "      <th>fr_fghtng_fclt_spcl_css_6_yn</th>\n",
       "      <th>dngrs_thng_yn</th>\n",
       "      <th>slf_fr_brgd_yn</th>\n",
       "      <th>blk_dngrs_thng_mnfctr_yn</th>\n",
       "      <th>cltrl_hrtg_yn</th>\n",
       "    </tr>\n",
       "  </thead>\n",
       "  <tbody>\n",
       "    <tr>\n",
       "      <th>0</th>\n",
       "      <td>1.0</td>\n",
       "      <td>0</td>\n",
       "      <td>NaN</td>\n",
       "      <td>NaN</td>\n",
       "      <td>NaN</td>\n",
       "      <td>NaN</td>\n",
       "      <td>NaN</td>\n",
       "      <td>NaN</td>\n",
       "    </tr>\n",
       "    <tr>\n",
       "      <th>1</th>\n",
       "      <td>0.0</td>\n",
       "      <td>0</td>\n",
       "      <td>NaN</td>\n",
       "      <td>NaN</td>\n",
       "      <td>NaN</td>\n",
       "      <td>NaN</td>\n",
       "      <td>NaN</td>\n",
       "      <td>NaN</td>\n",
       "    </tr>\n",
       "    <tr>\n",
       "      <th>2</th>\n",
       "      <td>1.0</td>\n",
       "      <td>0</td>\n",
       "      <td>NaN</td>\n",
       "      <td>NaN</td>\n",
       "      <td>NaN</td>\n",
       "      <td>NaN</td>\n",
       "      <td>NaN</td>\n",
       "      <td>NaN</td>\n",
       "    </tr>\n",
       "    <tr>\n",
       "      <th>3</th>\n",
       "      <td>0.0</td>\n",
       "      <td>0</td>\n",
       "      <td>NaN</td>\n",
       "      <td>NaN</td>\n",
       "      <td>NaN</td>\n",
       "      <td>NaN</td>\n",
       "      <td>NaN</td>\n",
       "      <td>NaN</td>\n",
       "    </tr>\n",
       "    <tr>\n",
       "      <th>4</th>\n",
       "      <td>0.0</td>\n",
       "      <td>0</td>\n",
       "      <td>NaN</td>\n",
       "      <td>NaN</td>\n",
       "      <td>NaN</td>\n",
       "      <td>NaN</td>\n",
       "      <td>NaN</td>\n",
       "      <td>NaN</td>\n",
       "    </tr>\n",
       "    <tr>\n",
       "      <th>...</th>\n",
       "      <td>...</td>\n",
       "      <td>...</td>\n",
       "      <td>...</td>\n",
       "      <td>...</td>\n",
       "      <td>...</td>\n",
       "      <td>...</td>\n",
       "      <td>...</td>\n",
       "      <td>...</td>\n",
       "    </tr>\n",
       "    <tr>\n",
       "      <th>69049</th>\n",
       "      <td>NaN</td>\n",
       "      <td>0</td>\n",
       "      <td>NaN</td>\n",
       "      <td>NaN</td>\n",
       "      <td>NaN</td>\n",
       "      <td>NaN</td>\n",
       "      <td>NaN</td>\n",
       "      <td>NaN</td>\n",
       "    </tr>\n",
       "    <tr>\n",
       "      <th>69050</th>\n",
       "      <td>NaN</td>\n",
       "      <td>0</td>\n",
       "      <td>NaN</td>\n",
       "      <td>NaN</td>\n",
       "      <td>NaN</td>\n",
       "      <td>NaN</td>\n",
       "      <td>NaN</td>\n",
       "      <td>NaN</td>\n",
       "    </tr>\n",
       "    <tr>\n",
       "      <th>69051</th>\n",
       "      <td>NaN</td>\n",
       "      <td>0</td>\n",
       "      <td>NaN</td>\n",
       "      <td>NaN</td>\n",
       "      <td>NaN</td>\n",
       "      <td>NaN</td>\n",
       "      <td>NaN</td>\n",
       "      <td>NaN</td>\n",
       "    </tr>\n",
       "    <tr>\n",
       "      <th>69052</th>\n",
       "      <td>NaN</td>\n",
       "      <td>0</td>\n",
       "      <td>NaN</td>\n",
       "      <td>NaN</td>\n",
       "      <td>NaN</td>\n",
       "      <td>NaN</td>\n",
       "      <td>NaN</td>\n",
       "      <td>NaN</td>\n",
       "    </tr>\n",
       "    <tr>\n",
       "      <th>69053</th>\n",
       "      <td>NaN</td>\n",
       "      <td>0</td>\n",
       "      <td>NaN</td>\n",
       "      <td>NaN</td>\n",
       "      <td>NaN</td>\n",
       "      <td>NaN</td>\n",
       "      <td>NaN</td>\n",
       "      <td>NaN</td>\n",
       "    </tr>\n",
       "  </tbody>\n",
       "</table>\n",
       "<p>69054 rows × 8 columns</p>\n",
       "</div>"
      ],
      "text/plain": [
       "       fr_yn  mlt_us_yn  fr_fghtng_fclt_spcl_css_5_yn  \\\n",
       "0        1.0          0                           NaN   \n",
       "1        0.0          0                           NaN   \n",
       "2        1.0          0                           NaN   \n",
       "3        0.0          0                           NaN   \n",
       "4        0.0          0                           NaN   \n",
       "...      ...        ...                           ...   \n",
       "69049    NaN          0                           NaN   \n",
       "69050    NaN          0                           NaN   \n",
       "69051    NaN          0                           NaN   \n",
       "69052    NaN          0                           NaN   \n",
       "69053    NaN          0                           NaN   \n",
       "\n",
       "       fr_fghtng_fclt_spcl_css_6_yn  dngrs_thng_yn  slf_fr_brgd_yn  \\\n",
       "0                               NaN            NaN             NaN   \n",
       "1                               NaN            NaN             NaN   \n",
       "2                               NaN            NaN             NaN   \n",
       "3                               NaN            NaN             NaN   \n",
       "4                               NaN            NaN             NaN   \n",
       "...                             ...            ...             ...   \n",
       "69049                           NaN            NaN             NaN   \n",
       "69050                           NaN            NaN             NaN   \n",
       "69051                           NaN            NaN             NaN   \n",
       "69052                           NaN            NaN             NaN   \n",
       "69053                           NaN            NaN             NaN   \n",
       "\n",
       "       blk_dngrs_thng_mnfctr_yn  cltrl_hrtg_yn  \n",
       "0                           NaN            NaN  \n",
       "1                           NaN            NaN  \n",
       "2                           NaN            NaN  \n",
       "3                           NaN            NaN  \n",
       "4                           NaN            NaN  \n",
       "...                         ...            ...  \n",
       "69049                       NaN            NaN  \n",
       "69050                       NaN            NaN  \n",
       "69051                       NaN            NaN  \n",
       "69052                       NaN            NaN  \n",
       "69053                       NaN            NaN  \n",
       "\n",
       "[69054 rows x 8 columns]"
      ]
     },
     "execution_count": 13,
     "metadata": {},
     "output_type": "execute_result"
    }
   ],
   "source": [
    "df_all[binary_columns]"
   ]
  },
  {
   "cell_type": "code",
   "execution_count": 14,
   "metadata": {
    "scrolled": true
   },
   "outputs": [
    {
     "data": {
      "text/plain": [
       "fr_yn                           float64\n",
       "mlt_us_yn                         int64\n",
       "fr_fghtng_fclt_spcl_css_5_yn    float64\n",
       "fr_fghtng_fclt_spcl_css_6_yn    float64\n",
       "dngrs_thng_yn                   float64\n",
       "slf_fr_brgd_yn                  float64\n",
       "blk_dngrs_thng_mnfctr_yn        float64\n",
       "cltrl_hrtg_yn                   float64\n",
       "dtype: object"
      ]
     },
     "execution_count": 14,
     "metadata": {},
     "output_type": "execute_result"
    }
   ],
   "source": [
    "df_all[binary_columns].dtypes"
   ]
  },
  {
   "cell_type": "code",
   "execution_count": 15,
   "metadata": {},
   "outputs": [],
   "source": [
    "# 결측값 대체\n",
    "\n",
    "df_all.fillna(-1, inplace=True)"
   ]
  },
  {
   "cell_type": "code",
   "execution_count": 16,
   "metadata": {
    "scrolled": false
   },
   "outputs": [],
   "source": [
    "df_all[binary_columns] = df_all[binary_columns].astype(np.int64)"
   ]
  },
  {
   "cell_type": "code",
   "execution_count": 17,
   "metadata": {
    "scrolled": true
   },
   "outputs": [
    {
     "data": {
      "text/plain": [
       "fr_yn                           int64\n",
       "mlt_us_yn                       int64\n",
       "fr_fghtng_fclt_spcl_css_5_yn    int64\n",
       "fr_fghtng_fclt_spcl_css_6_yn    int64\n",
       "dngrs_thng_yn                   int64\n",
       "slf_fr_brgd_yn                  int64\n",
       "blk_dngrs_thng_mnfctr_yn        int64\n",
       "cltrl_hrtg_yn                   int64\n",
       "dtype: object"
      ]
     },
     "execution_count": 17,
     "metadata": {},
     "output_type": "execute_result"
    }
   ],
   "source": [
    "df_all[binary_columns].dtypes"
   ]
  },
  {
   "cell_type": "markdown",
   "metadata": {},
   "source": [
    "### 3.2.2. category"
   ]
  },
  {
   "cell_type": "code",
   "execution_count": 18,
   "metadata": {},
   "outputs": [
    {
     "data": {
      "text/plain": [
       "bldng_us             object\n",
       "bldng_archtctr       object\n",
       "bldng_us_clssfctn    object\n",
       "jmk                  object\n",
       "rgnl_ar_nm           object\n",
       "rgnl_ar_nm2          object\n",
       "lnd_us_sttn_nm       object\n",
       "rd_sd_nm             object\n",
       "emd_nm               object\n",
       "trgt_crtr            object\n",
       "us_yn                object\n",
       "dtype: object"
      ]
     },
     "execution_count": 18,
     "metadata": {},
     "output_type": "execute_result"
    }
   ],
   "source": [
    "df_all[category_columns].dtypes"
   ]
  },
  {
   "cell_type": "code",
   "execution_count": 19,
   "metadata": {},
   "outputs": [
    {
     "data": {
      "text/plain": [
       "'\\n# 범주형 변수 label encoding\\n\\nfeatures = []\\n\\nfor col in category_columns:\\n    df_all[col], _ = df_all[col].factorize(na_sentinel=-1)\\n'"
      ]
     },
     "execution_count": 19,
     "metadata": {},
     "output_type": "execute_result"
    }
   ],
   "source": [
    "\"\"\"\n",
    "# 범주형 변수 label encoding\n",
    "\n",
    "features = []\n",
    "\n",
    "for col in category_columns:\n",
    "    df_all[col], _ = df_all[col].factorize(na_sentinel=-1)\n",
    "\"\"\""
   ]
  },
  {
   "cell_type": "code",
   "execution_count": 20,
   "metadata": {},
   "outputs": [],
   "source": [
    "df_all[category_columns] = df_all[category_columns].astype('category')"
   ]
  },
  {
   "cell_type": "code",
   "execution_count": 21,
   "metadata": {
    "scrolled": false
   },
   "outputs": [
    {
     "data": {
      "text/plain": [
       "bldng_us             category\n",
       "bldng_archtctr       category\n",
       "bldng_us_clssfctn    category\n",
       "jmk                  category\n",
       "rgnl_ar_nm           category\n",
       "rgnl_ar_nm2          category\n",
       "lnd_us_sttn_nm       category\n",
       "rd_sd_nm             category\n",
       "emd_nm               category\n",
       "trgt_crtr            category\n",
       "us_yn                category\n",
       "dtype: object"
      ]
     },
     "execution_count": 21,
     "metadata": {},
     "output_type": "execute_result"
    }
   ],
   "source": [
    "df_all[category_columns].dtypes"
   ]
  },
  {
   "cell_type": "markdown",
   "metadata": {},
   "source": [
    "### 3.2.3 integer"
   ]
  },
  {
   "cell_type": "code",
   "execution_count": 22,
   "metadata": {
    "scrolled": true
   },
   "outputs": [
    {
     "data": {
      "text/plain": [
       "bldng_cnt                 int64\n",
       "ttl_grnd_flr            float64\n",
       "ttl_dwn_flr             float64\n",
       "wnd_drctn               float64\n",
       "hmdt                    float64\n",
       "hm_cnt                  float64\n",
       "fr_sttn_dstnc             int64\n",
       "bldng_ar_prc            float64\n",
       "fr_wthr_fclt_dstnc        int64\n",
       "fr_mn_cnt               float64\n",
       "cctv_dstnc                int64\n",
       "fr_wthr_fclt_in_100m      int64\n",
       "cctv_in_100m              int64\n",
       "tbc_rtl_str_dstnc         int64\n",
       "sft_emrgnc_bll_dstnc      int64\n",
       "ahsm_dstnc                int64\n",
       "no_tbc_zn_dstnc           int64\n",
       "bldng_cnt_in_50m          int64\n",
       "dtype: object"
      ]
     },
     "execution_count": 22,
     "metadata": {},
     "output_type": "execute_result"
    }
   ],
   "source": [
    "df_all[integer_columns].dtypes"
   ]
  },
  {
   "cell_type": "code",
   "execution_count": 23,
   "metadata": {},
   "outputs": [],
   "source": [
    "df_all[integer_columns] = df_all[integer_columns].astype(np.int64)"
   ]
  },
  {
   "cell_type": "code",
   "execution_count": 24,
   "metadata": {
    "scrolled": true
   },
   "outputs": [
    {
     "data": {
      "text/plain": [
       "bldng_cnt               int64\n",
       "ttl_grnd_flr            int64\n",
       "ttl_dwn_flr             int64\n",
       "wnd_drctn               int64\n",
       "hmdt                    int64\n",
       "hm_cnt                  int64\n",
       "fr_sttn_dstnc           int64\n",
       "bldng_ar_prc            int64\n",
       "fr_wthr_fclt_dstnc      int64\n",
       "fr_mn_cnt               int64\n",
       "cctv_dstnc              int64\n",
       "fr_wthr_fclt_in_100m    int64\n",
       "cctv_in_100m            int64\n",
       "tbc_rtl_str_dstnc       int64\n",
       "sft_emrgnc_bll_dstnc    int64\n",
       "ahsm_dstnc              int64\n",
       "no_tbc_zn_dstnc         int64\n",
       "bldng_cnt_in_50m        int64\n",
       "dtype: object"
      ]
     },
     "execution_count": 24,
     "metadata": {},
     "output_type": "execute_result"
    }
   ],
   "source": [
    "df_all[integer_columns].dtypes"
   ]
  },
  {
   "cell_type": "markdown",
   "metadata": {},
   "source": [
    "### 3.2.4 floats"
   ]
  },
  {
   "cell_type": "code",
   "execution_count": 25,
   "metadata": {
    "scrolled": false
   },
   "outputs": [
    {
     "data": {
      "text/plain": [
       "bldng_ar    float64\n",
       "ttl_ar      float64\n",
       "lnd_ar      float64\n",
       "tmprtr      float64\n",
       "prcpttn     float64\n",
       "wnd_spd     float64\n",
       "dtype: object"
      ]
     },
     "execution_count": 25,
     "metadata": {},
     "output_type": "execute_result"
    }
   ],
   "source": [
    "df_all[floats_columns].dtypes"
   ]
  },
  {
   "cell_type": "code",
   "execution_count": 26,
   "metadata": {},
   "outputs": [
    {
     "data": {
      "text/plain": [
       "dt_of_fr         object\n",
       "dt_of_athrztn    object\n",
       "dtype: object"
      ]
     },
     "execution_count": 26,
     "metadata": {},
     "output_type": "execute_result"
    }
   ],
   "source": [
    "df_all[time_columns].dtypes"
   ]
  },
  {
   "cell_type": "markdown",
   "metadata": {},
   "source": [
    "# 4. 피처 엔지니어링"
   ]
  },
  {
   "cell_type": "markdown",
   "metadata": {},
   "source": [
    "## 4.1. 날짜 데이터 처리"
   ]
  },
  {
   "cell_type": "code",
   "execution_count": 27,
   "metadata": {},
   "outputs": [],
   "source": [
    "dt_of_athrztn_list = []\n",
    "for date in df_all['dt_of_athrztn']:\n",
    "    date = int(str(date)[:4])\n",
    "    dt_of_athrztn_list.append(date)"
   ]
  },
  {
   "cell_type": "code",
   "execution_count": 28,
   "metadata": {
    "scrolled": true
   },
   "outputs": [
    {
     "data": {
      "text/html": [
       "<div>\n",
       "<style scoped>\n",
       "    .dataframe tbody tr th:only-of-type {\n",
       "        vertical-align: middle;\n",
       "    }\n",
       "\n",
       "    .dataframe tbody tr th {\n",
       "        vertical-align: top;\n",
       "    }\n",
       "\n",
       "    .dataframe thead th {\n",
       "        text-align: right;\n",
       "    }\n",
       "</style>\n",
       "<table border=\"1\" class=\"dataframe\">\n",
       "  <thead>\n",
       "    <tr style=\"text-align: right;\">\n",
       "      <th></th>\n",
       "      <th>dt_of_fr_year</th>\n",
       "      <th>dt_of_fr_month</th>\n",
       "      <th>dt_of_fr_day</th>\n",
       "      <th>dt_of_fr_hour</th>\n",
       "    </tr>\n",
       "  </thead>\n",
       "  <tbody>\n",
       "    <tr>\n",
       "      <th>0</th>\n",
       "      <td>2017</td>\n",
       "      <td>10</td>\n",
       "      <td>20</td>\n",
       "      <td>5</td>\n",
       "    </tr>\n",
       "    <tr>\n",
       "      <th>1</th>\n",
       "      <td>2018</td>\n",
       "      <td>9</td>\n",
       "      <td>30</td>\n",
       "      <td>8</td>\n",
       "    </tr>\n",
       "    <tr>\n",
       "      <th>2</th>\n",
       "      <td>2016</td>\n",
       "      <td>10</td>\n",
       "      <td>30</td>\n",
       "      <td>14</td>\n",
       "    </tr>\n",
       "    <tr>\n",
       "      <th>3</th>\n",
       "      <td>2016</td>\n",
       "      <td>6</td>\n",
       "      <td>14</td>\n",
       "      <td>5</td>\n",
       "    </tr>\n",
       "    <tr>\n",
       "      <th>4</th>\n",
       "      <td>2018</td>\n",
       "      <td>4</td>\n",
       "      <td>22</td>\n",
       "      <td>5</td>\n",
       "    </tr>\n",
       "  </tbody>\n",
       "</table>\n",
       "</div>"
      ],
      "text/plain": [
       "   dt_of_fr_year  dt_of_fr_month  dt_of_fr_day  dt_of_fr_hour\n",
       "0           2017              10            20              5\n",
       "1           2018               9            30              8\n",
       "2           2016              10            30             14\n",
       "3           2016               6            14              5\n",
       "4           2018               4            22              5"
      ]
     },
     "execution_count": 28,
     "metadata": {},
     "output_type": "execute_result"
    }
   ],
   "source": [
    "fe_datetime = pd.concat([pd.Series(pd.to_datetime(df_all['dt_of_fr']).map(lambda x: x.year)),\n",
    "                         pd.Series(pd.to_datetime(df_all['dt_of_fr']).map(lambda x: x.month)),\n",
    "                         pd.Series(pd.to_datetime(df_all['dt_of_fr']).map(lambda x: x.day)),\n",
    "                         pd.Series(pd.to_datetime(df_all['dt_of_fr']).map(lambda x: x.hour))], axis=1)\n",
    "fe_datetime.columns = ['dt_of_fr_year', 'dt_of_fr_month', 'dt_of_fr_day', 'dt_of_fr_hour']\n",
    "fe_datetime.head()"
   ]
  },
  {
   "cell_type": "code",
   "execution_count": 29,
   "metadata": {},
   "outputs": [],
   "source": [
    "from_athrztn_to_fire_list = []\n",
    "\n",
    "for n, fr_year in enumerate(fe_datetime['dt_of_fr_year']):\n",
    "    if dt_of_athrztn_list[n] >= 0:\n",
    "        from_athrztn_to_fire = fr_year - dt_of_athrztn_list[n]\n",
    "        from_athrztn_to_fire_list.append(from_athrztn_to_fire)\n",
    "    else:\n",
    "        from_athrztn_to_fire_list.append(-1)"
   ]
  },
  {
   "cell_type": "code",
   "execution_count": 30,
   "metadata": {
    "scrolled": false
   },
   "outputs": [
    {
     "data": {
      "text/html": [
       "<div>\n",
       "<style scoped>\n",
       "    .dataframe tbody tr th:only-of-type {\n",
       "        vertical-align: middle;\n",
       "    }\n",
       "\n",
       "    .dataframe tbody tr th {\n",
       "        vertical-align: top;\n",
       "    }\n",
       "\n",
       "    .dataframe thead th {\n",
       "        text-align: right;\n",
       "    }\n",
       "</style>\n",
       "<table border=\"1\" class=\"dataframe\">\n",
       "  <thead>\n",
       "    <tr style=\"text-align: right;\">\n",
       "      <th></th>\n",
       "      <th>dt_of_fr_year</th>\n",
       "      <th>dt_of_fr_month</th>\n",
       "      <th>dt_of_fr_day</th>\n",
       "      <th>dt_of_fr_hour</th>\n",
       "      <th>from_athrztn_to_fr</th>\n",
       "    </tr>\n",
       "  </thead>\n",
       "  <tbody>\n",
       "    <tr>\n",
       "      <th>0</th>\n",
       "      <td>2017</td>\n",
       "      <td>10</td>\n",
       "      <td>20</td>\n",
       "      <td>5</td>\n",
       "      <td>40</td>\n",
       "    </tr>\n",
       "    <tr>\n",
       "      <th>1</th>\n",
       "      <td>2018</td>\n",
       "      <td>9</td>\n",
       "      <td>30</td>\n",
       "      <td>8</td>\n",
       "      <td>-1</td>\n",
       "    </tr>\n",
       "    <tr>\n",
       "      <th>2</th>\n",
       "      <td>2016</td>\n",
       "      <td>10</td>\n",
       "      <td>30</td>\n",
       "      <td>14</td>\n",
       "      <td>16</td>\n",
       "    </tr>\n",
       "    <tr>\n",
       "      <th>3</th>\n",
       "      <td>2016</td>\n",
       "      <td>6</td>\n",
       "      <td>14</td>\n",
       "      <td>5</td>\n",
       "      <td>80</td>\n",
       "    </tr>\n",
       "    <tr>\n",
       "      <th>4</th>\n",
       "      <td>2018</td>\n",
       "      <td>4</td>\n",
       "      <td>22</td>\n",
       "      <td>5</td>\n",
       "      <td>-1</td>\n",
       "    </tr>\n",
       "  </tbody>\n",
       "</table>\n",
       "</div>"
      ],
      "text/plain": [
       "   dt_of_fr_year  dt_of_fr_month  dt_of_fr_day  dt_of_fr_hour  \\\n",
       "0           2017              10            20              5   \n",
       "1           2018               9            30              8   \n",
       "2           2016              10            30             14   \n",
       "3           2016               6            14              5   \n",
       "4           2018               4            22              5   \n",
       "\n",
       "   from_athrztn_to_fr  \n",
       "0                  40  \n",
       "1                  -1  \n",
       "2                  16  \n",
       "3                  80  \n",
       "4                  -1  "
      ]
     },
     "execution_count": 30,
     "metadata": {},
     "output_type": "execute_result"
    }
   ],
   "source": [
    "fe_datetime['from_athrztn_to_fr'] = from_athrztn_to_fire_list\n",
    "fe_datetime.head()"
   ]
  },
  {
   "cell_type": "code",
   "execution_count": 31,
   "metadata": {},
   "outputs": [],
   "source": [
    "df_all.drop(['dt_of_fr', 'dt_of_athrztn'], axis=1, inplace=True)"
   ]
  },
  {
   "cell_type": "code",
   "execution_count": 32,
   "metadata": {},
   "outputs": [],
   "source": [
    "df_all = pd.concat([df_all, fe_datetime], axis=1)"
   ]
  },
  {
   "cell_type": "markdown",
   "metadata": {},
   "source": [
    "## 4.2. 범위가 큰 데이터의 log 변환"
   ]
  },
  {
   "cell_type": "code",
   "execution_count": 33,
   "metadata": {},
   "outputs": [],
   "source": [
    "def log_scale(data, cols):\n",
    "    for col in cols:\n",
    "        log_list = []\n",
    "        for num in data[col]:\n",
    "            if num >= 1:\n",
    "                log_list.append(round(np.log(num), 3))\n",
    "            elif num <= 1 and num >= 0:\n",
    "                log_list.append(0)\n",
    "            else:\n",
    "                log_list.append(-1)\n",
    "        data[col] = log_list\n",
    "    return data"
   ]
  },
  {
   "cell_type": "code",
   "execution_count": 34,
   "metadata": {},
   "outputs": [],
   "source": [
    "log_columns = ['bldng_ar', 'ttl_ar', 'lnd_ar', 'hm_cnt', 'fr_sttn_dstnc', 'bldng_ar_prc', 'fr_wthr_fclt_dstnc', 'tbc_rtl_str_dstnc',\n",
    "               'ahsm_dstnc', 'no_tbc_zn_dstnc']"
   ]
  },
  {
   "cell_type": "code",
   "execution_count": 35,
   "metadata": {},
   "outputs": [
    {
     "data": {
      "text/html": [
       "<div>\n",
       "<style scoped>\n",
       "    .dataframe tbody tr th:only-of-type {\n",
       "        vertical-align: middle;\n",
       "    }\n",
       "\n",
       "    .dataframe tbody tr th {\n",
       "        vertical-align: top;\n",
       "    }\n",
       "\n",
       "    .dataframe thead th {\n",
       "        text-align: right;\n",
       "    }\n",
       "</style>\n",
       "<table border=\"1\" class=\"dataframe\">\n",
       "  <thead>\n",
       "    <tr style=\"text-align: right;\">\n",
       "      <th></th>\n",
       "      <th>bldng_ar</th>\n",
       "      <th>ttl_ar</th>\n",
       "      <th>lnd_ar</th>\n",
       "      <th>hm_cnt</th>\n",
       "      <th>fr_sttn_dstnc</th>\n",
       "      <th>bldng_ar_prc</th>\n",
       "      <th>fr_wthr_fclt_dstnc</th>\n",
       "      <th>tbc_rtl_str_dstnc</th>\n",
       "      <th>ahsm_dstnc</th>\n",
       "      <th>no_tbc_zn_dstnc</th>\n",
       "    </tr>\n",
       "  </thead>\n",
       "  <tbody>\n",
       "    <tr>\n",
       "      <th>0</th>\n",
       "      <td>69.42</td>\n",
       "      <td>69.42</td>\n",
       "      <td>0.0</td>\n",
       "      <td>17360</td>\n",
       "      <td>4547</td>\n",
       "      <td>-1</td>\n",
       "      <td>133</td>\n",
       "      <td>1891</td>\n",
       "      <td>11322</td>\n",
       "      <td>88</td>\n",
       "    </tr>\n",
       "    <tr>\n",
       "      <th>1</th>\n",
       "      <td>46.29</td>\n",
       "      <td>46.29</td>\n",
       "      <td>0.0</td>\n",
       "      <td>1791</td>\n",
       "      <td>6388</td>\n",
       "      <td>122581</td>\n",
       "      <td>489</td>\n",
       "      <td>4533</td>\n",
       "      <td>3369</td>\n",
       "      <td>7727</td>\n",
       "    </tr>\n",
       "    <tr>\n",
       "      <th>2</th>\n",
       "      <td>583.80</td>\n",
       "      <td>2516.76</td>\n",
       "      <td>1446.0</td>\n",
       "      <td>17285</td>\n",
       "      <td>3340</td>\n",
       "      <td>618105</td>\n",
       "      <td>143</td>\n",
       "      <td>277</td>\n",
       "      <td>12451</td>\n",
       "      <td>72</td>\n",
       "    </tr>\n",
       "    <tr>\n",
       "      <th>3</th>\n",
       "      <td>48.92</td>\n",
       "      <td>48.92</td>\n",
       "      <td>0.0</td>\n",
       "      <td>7327</td>\n",
       "      <td>179</td>\n",
       "      <td>719542</td>\n",
       "      <td>1585</td>\n",
       "      <td>438</td>\n",
       "      <td>407</td>\n",
       "      <td>508</td>\n",
       "    </tr>\n",
       "    <tr>\n",
       "      <th>4</th>\n",
       "      <td>0.00</td>\n",
       "      <td>0.00</td>\n",
       "      <td>0.0</td>\n",
       "      <td>17278</td>\n",
       "      <td>4822</td>\n",
       "      <td>-1</td>\n",
       "      <td>603</td>\n",
       "      <td>1702</td>\n",
       "      <td>12487</td>\n",
       "      <td>707</td>\n",
       "    </tr>\n",
       "    <tr>\n",
       "      <th>...</th>\n",
       "      <td>...</td>\n",
       "      <td>...</td>\n",
       "      <td>...</td>\n",
       "      <td>...</td>\n",
       "      <td>...</td>\n",
       "      <td>...</td>\n",
       "      <td>...</td>\n",
       "      <td>...</td>\n",
       "      <td>...</td>\n",
       "      <td>...</td>\n",
       "    </tr>\n",
       "    <tr>\n",
       "      <th>69049</th>\n",
       "      <td>122.45</td>\n",
       "      <td>329.55</td>\n",
       "      <td>288.0</td>\n",
       "      <td>79708</td>\n",
       "      <td>1150</td>\n",
       "      <td>1119709</td>\n",
       "      <td>56</td>\n",
       "      <td>321</td>\n",
       "      <td>16240</td>\n",
       "      <td>183</td>\n",
       "    </tr>\n",
       "    <tr>\n",
       "      <th>69050</th>\n",
       "      <td>52.89</td>\n",
       "      <td>52.89</td>\n",
       "      <td>0.0</td>\n",
       "      <td>42093</td>\n",
       "      <td>1472</td>\n",
       "      <td>2495746</td>\n",
       "      <td>370</td>\n",
       "      <td>903</td>\n",
       "      <td>3266</td>\n",
       "      <td>590</td>\n",
       "    </tr>\n",
       "    <tr>\n",
       "      <th>69051</th>\n",
       "      <td>166.05</td>\n",
       "      <td>466.82</td>\n",
       "      <td>277.3</td>\n",
       "      <td>84290</td>\n",
       "      <td>885</td>\n",
       "      <td>1146599</td>\n",
       "      <td>68</td>\n",
       "      <td>275</td>\n",
       "      <td>16485</td>\n",
       "      <td>105</td>\n",
       "    </tr>\n",
       "    <tr>\n",
       "      <th>69052</th>\n",
       "      <td>250.00</td>\n",
       "      <td>240.00</td>\n",
       "      <td>827.8</td>\n",
       "      <td>40703</td>\n",
       "      <td>1437</td>\n",
       "      <td>-1</td>\n",
       "      <td>97</td>\n",
       "      <td>159</td>\n",
       "      <td>20055</td>\n",
       "      <td>806</td>\n",
       "    </tr>\n",
       "    <tr>\n",
       "      <th>69053</th>\n",
       "      <td>2055.80</td>\n",
       "      <td>6169.88</td>\n",
       "      <td>3767.6</td>\n",
       "      <td>10261</td>\n",
       "      <td>1785</td>\n",
       "      <td>-1</td>\n",
       "      <td>51</td>\n",
       "      <td>62</td>\n",
       "      <td>16884</td>\n",
       "      <td>218</td>\n",
       "    </tr>\n",
       "  </tbody>\n",
       "</table>\n",
       "<p>69054 rows × 10 columns</p>\n",
       "</div>"
      ],
      "text/plain": [
       "       bldng_ar   ttl_ar  lnd_ar  hm_cnt  fr_sttn_dstnc  bldng_ar_prc  \\\n",
       "0         69.42    69.42     0.0   17360           4547            -1   \n",
       "1         46.29    46.29     0.0    1791           6388        122581   \n",
       "2        583.80  2516.76  1446.0   17285           3340        618105   \n",
       "3         48.92    48.92     0.0    7327            179        719542   \n",
       "4          0.00     0.00     0.0   17278           4822            -1   \n",
       "...         ...      ...     ...     ...            ...           ...   \n",
       "69049    122.45   329.55   288.0   79708           1150       1119709   \n",
       "69050     52.89    52.89     0.0   42093           1472       2495746   \n",
       "69051    166.05   466.82   277.3   84290            885       1146599   \n",
       "69052    250.00   240.00   827.8   40703           1437            -1   \n",
       "69053   2055.80  6169.88  3767.6   10261           1785            -1   \n",
       "\n",
       "       fr_wthr_fclt_dstnc  tbc_rtl_str_dstnc  ahsm_dstnc  no_tbc_zn_dstnc  \n",
       "0                     133               1891       11322               88  \n",
       "1                     489               4533        3369             7727  \n",
       "2                     143                277       12451               72  \n",
       "3                    1585                438         407              508  \n",
       "4                     603               1702       12487              707  \n",
       "...                   ...                ...         ...              ...  \n",
       "69049                  56                321       16240              183  \n",
       "69050                 370                903        3266              590  \n",
       "69051                  68                275       16485              105  \n",
       "69052                  97                159       20055              806  \n",
       "69053                  51                 62       16884              218  \n",
       "\n",
       "[69054 rows x 10 columns]"
      ]
     },
     "execution_count": 35,
     "metadata": {},
     "output_type": "execute_result"
    }
   ],
   "source": [
    "df_all[log_columns]"
   ]
  },
  {
   "cell_type": "code",
   "execution_count": 36,
   "metadata": {
    "scrolled": false
   },
   "outputs": [],
   "source": [
    "df_all = log_scale(df_all, log_columns)"
   ]
  },
  {
   "cell_type": "markdown",
   "metadata": {},
   "source": [
    "## 4.3. gas_ele 데이터 처리"
   ]
  },
  {
   "cell_type": "code",
   "execution_count": 37,
   "metadata": {
    "scrolled": true
   },
   "outputs": [
    {
     "data": {
      "text/html": [
       "<div>\n",
       "<style scoped>\n",
       "    .dataframe tbody tr th:only-of-type {\n",
       "        vertical-align: middle;\n",
       "    }\n",
       "\n",
       "    .dataframe tbody tr th {\n",
       "        vertical-align: top;\n",
       "    }\n",
       "\n",
       "    .dataframe thead th {\n",
       "        text-align: right;\n",
       "    }\n",
       "</style>\n",
       "<table border=\"1\" class=\"dataframe\">\n",
       "  <thead>\n",
       "    <tr style=\"text-align: right;\">\n",
       "      <th></th>\n",
       "      <th>gas_engry_us_201401</th>\n",
       "      <th>ele_engry_us_201401</th>\n",
       "      <th>gas_engry_us_201402</th>\n",
       "      <th>ele_engry_us_201402</th>\n",
       "      <th>gas_engry_us_201403</th>\n",
       "      <th>ele_engry_us_201403</th>\n",
       "      <th>gas_engry_us_201404</th>\n",
       "      <th>ele_engry_us_201404</th>\n",
       "      <th>gas_engry_us_201405</th>\n",
       "      <th>ele_engry_us_201405</th>\n",
       "      <th>...</th>\n",
       "      <th>gas_engry_us_201808</th>\n",
       "      <th>ele_engry_us_201808</th>\n",
       "      <th>gas_engry_us_201809</th>\n",
       "      <th>ele_engry_us_201809</th>\n",
       "      <th>gas_engry_us_201810</th>\n",
       "      <th>ele_engry_us_201810</th>\n",
       "      <th>gas_engry_us_201811</th>\n",
       "      <th>ele_engry_us_201811</th>\n",
       "      <th>gas_engry_us_201812</th>\n",
       "      <th>ele_engry_us_201812</th>\n",
       "    </tr>\n",
       "  </thead>\n",
       "  <tbody>\n",
       "    <tr>\n",
       "      <th>0</th>\n",
       "      <td>0.0</td>\n",
       "      <td>0.0</td>\n",
       "      <td>0.0</td>\n",
       "      <td>0.0</td>\n",
       "      <td>0.0</td>\n",
       "      <td>0.0</td>\n",
       "      <td>0.0</td>\n",
       "      <td>0.0</td>\n",
       "      <td>0.0</td>\n",
       "      <td>0.0</td>\n",
       "      <td>...</td>\n",
       "      <td>0.0</td>\n",
       "      <td>0.0</td>\n",
       "      <td>0.0</td>\n",
       "      <td>0.0</td>\n",
       "      <td>0.0</td>\n",
       "      <td>0.0</td>\n",
       "      <td>0.0</td>\n",
       "      <td>0.0</td>\n",
       "      <td>0.0</td>\n",
       "      <td>0.0</td>\n",
       "    </tr>\n",
       "    <tr>\n",
       "      <th>1</th>\n",
       "      <td>-1.0</td>\n",
       "      <td>-1.0</td>\n",
       "      <td>-1.0</td>\n",
       "      <td>-1.0</td>\n",
       "      <td>-1.0</td>\n",
       "      <td>-1.0</td>\n",
       "      <td>-1.0</td>\n",
       "      <td>-1.0</td>\n",
       "      <td>-1.0</td>\n",
       "      <td>-1.0</td>\n",
       "      <td>...</td>\n",
       "      <td>-1.0</td>\n",
       "      <td>-1.0</td>\n",
       "      <td>-1.0</td>\n",
       "      <td>-1.0</td>\n",
       "      <td>-1.0</td>\n",
       "      <td>-1.0</td>\n",
       "      <td>-1.0</td>\n",
       "      <td>-1.0</td>\n",
       "      <td>-1.0</td>\n",
       "      <td>-1.0</td>\n",
       "    </tr>\n",
       "    <tr>\n",
       "      <th>2</th>\n",
       "      <td>0.0</td>\n",
       "      <td>0.0</td>\n",
       "      <td>0.0</td>\n",
       "      <td>0.0</td>\n",
       "      <td>0.0</td>\n",
       "      <td>0.0</td>\n",
       "      <td>0.0</td>\n",
       "      <td>0.0</td>\n",
       "      <td>0.0</td>\n",
       "      <td>0.0</td>\n",
       "      <td>...</td>\n",
       "      <td>0.0</td>\n",
       "      <td>0.0</td>\n",
       "      <td>0.0</td>\n",
       "      <td>0.0</td>\n",
       "      <td>0.0</td>\n",
       "      <td>0.0</td>\n",
       "      <td>0.0</td>\n",
       "      <td>0.0</td>\n",
       "      <td>0.0</td>\n",
       "      <td>0.0</td>\n",
       "    </tr>\n",
       "    <tr>\n",
       "      <th>3</th>\n",
       "      <td>0.0</td>\n",
       "      <td>0.0</td>\n",
       "      <td>0.0</td>\n",
       "      <td>0.0</td>\n",
       "      <td>0.0</td>\n",
       "      <td>0.0</td>\n",
       "      <td>0.0</td>\n",
       "      <td>0.0</td>\n",
       "      <td>0.0</td>\n",
       "      <td>0.0</td>\n",
       "      <td>...</td>\n",
       "      <td>0.0</td>\n",
       "      <td>0.0</td>\n",
       "      <td>0.0</td>\n",
       "      <td>0.0</td>\n",
       "      <td>0.0</td>\n",
       "      <td>0.0</td>\n",
       "      <td>0.0</td>\n",
       "      <td>0.0</td>\n",
       "      <td>0.0</td>\n",
       "      <td>0.0</td>\n",
       "    </tr>\n",
       "    <tr>\n",
       "      <th>4</th>\n",
       "      <td>-1.0</td>\n",
       "      <td>-1.0</td>\n",
       "      <td>-1.0</td>\n",
       "      <td>-1.0</td>\n",
       "      <td>-1.0</td>\n",
       "      <td>-1.0</td>\n",
       "      <td>-1.0</td>\n",
       "      <td>-1.0</td>\n",
       "      <td>-1.0</td>\n",
       "      <td>-1.0</td>\n",
       "      <td>...</td>\n",
       "      <td>-1.0</td>\n",
       "      <td>-1.0</td>\n",
       "      <td>-1.0</td>\n",
       "      <td>-1.0</td>\n",
       "      <td>-1.0</td>\n",
       "      <td>-1.0</td>\n",
       "      <td>-1.0</td>\n",
       "      <td>-1.0</td>\n",
       "      <td>-1.0</td>\n",
       "      <td>-1.0</td>\n",
       "    </tr>\n",
       "  </tbody>\n",
       "</table>\n",
       "<p>5 rows × 120 columns</p>\n",
       "</div>"
      ],
      "text/plain": [
       "   gas_engry_us_201401  ele_engry_us_201401  gas_engry_us_201402  \\\n",
       "0                  0.0                  0.0                  0.0   \n",
       "1                 -1.0                 -1.0                 -1.0   \n",
       "2                  0.0                  0.0                  0.0   \n",
       "3                  0.0                  0.0                  0.0   \n",
       "4                 -1.0                 -1.0                 -1.0   \n",
       "\n",
       "   ele_engry_us_201402  gas_engry_us_201403  ele_engry_us_201403  \\\n",
       "0                  0.0                  0.0                  0.0   \n",
       "1                 -1.0                 -1.0                 -1.0   \n",
       "2                  0.0                  0.0                  0.0   \n",
       "3                  0.0                  0.0                  0.0   \n",
       "4                 -1.0                 -1.0                 -1.0   \n",
       "\n",
       "   gas_engry_us_201404  ele_engry_us_201404  gas_engry_us_201405  \\\n",
       "0                  0.0                  0.0                  0.0   \n",
       "1                 -1.0                 -1.0                 -1.0   \n",
       "2                  0.0                  0.0                  0.0   \n",
       "3                  0.0                  0.0                  0.0   \n",
       "4                 -1.0                 -1.0                 -1.0   \n",
       "\n",
       "   ele_engry_us_201405  ...  gas_engry_us_201808  ele_engry_us_201808  \\\n",
       "0                  0.0  ...                  0.0                  0.0   \n",
       "1                 -1.0  ...                 -1.0                 -1.0   \n",
       "2                  0.0  ...                  0.0                  0.0   \n",
       "3                  0.0  ...                  0.0                  0.0   \n",
       "4                 -1.0  ...                 -1.0                 -1.0   \n",
       "\n",
       "   gas_engry_us_201809  ele_engry_us_201809  gas_engry_us_201810  \\\n",
       "0                  0.0                  0.0                  0.0   \n",
       "1                 -1.0                 -1.0                 -1.0   \n",
       "2                  0.0                  0.0                  0.0   \n",
       "3                  0.0                  0.0                  0.0   \n",
       "4                 -1.0                 -1.0                 -1.0   \n",
       "\n",
       "   ele_engry_us_201810  gas_engry_us_201811  ele_engry_us_201811  \\\n",
       "0                  0.0                  0.0                  0.0   \n",
       "1                 -1.0                 -1.0                 -1.0   \n",
       "2                  0.0                  0.0                  0.0   \n",
       "3                  0.0                  0.0                  0.0   \n",
       "4                 -1.0                 -1.0                 -1.0   \n",
       "\n",
       "   gas_engry_us_201812  ele_engry_us_201812  \n",
       "0                  0.0                  0.0  \n",
       "1                 -1.0                 -1.0  \n",
       "2                  0.0                  0.0  \n",
       "3                  0.0                  0.0  \n",
       "4                 -1.0                 -1.0  \n",
       "\n",
       "[5 rows x 120 columns]"
      ]
     },
     "execution_count": 37,
     "metadata": {},
     "output_type": "execute_result"
    }
   ],
   "source": [
    "df_ele_gas = df_all[gas_ele_columns]\n",
    "df_ele_gas.head()"
   ]
  },
  {
   "cell_type": "markdown",
   "metadata": {},
   "source": [
    "### 4.3.1 gas_ele 총합"
   ]
  },
  {
   "cell_type": "code",
   "execution_count": 38,
   "metadata": {
    "scrolled": true
   },
   "outputs": [
    {
     "name": "stderr",
     "output_type": "stream",
     "text": [
      "C:\\Users\\Lee\\Anaconda3\\lib\\site-packages\\ipykernel_launcher.py:1: SettingWithCopyWarning: \n",
      "A value is trying to be set on a copy of a slice from a DataFrame.\n",
      "Try using .loc[row_indexer,col_indexer] = value instead\n",
      "\n",
      "See the caveats in the documentation: http://pandas.pydata.org/pandas-docs/stable/user_guide/indexing.html#returning-a-view-versus-a-copy\n",
      "  \"\"\"Entry point for launching an IPython kernel.\n"
     ]
    }
   ],
   "source": [
    "df_ele_gas['gas_ele_sum'] = df_ele_gas.sum(axis=1)"
   ]
  },
  {
   "cell_type": "code",
   "execution_count": 39,
   "metadata": {},
   "outputs": [],
   "source": [
    "ele_gas_log_list = []\n",
    "\n",
    "for value in df_ele_gas['gas_ele_sum']:\n",
    "    if value == 0.0:\n",
    "        ele_gas_log_list.append(0)\n",
    "    elif value < 0:\n",
    "        ele_gas_log_list.append(-1)\n",
    "    else:\n",
    "        ele_gas_log_list.append(round(np.log(value),5))"
   ]
  },
  {
   "cell_type": "code",
   "execution_count": 40,
   "metadata": {},
   "outputs": [],
   "source": [
    "df_all['gas_ele_sum'] = ele_gas_log_list"
   ]
  },
  {
   "cell_type": "markdown",
   "metadata": {},
   "source": [
    "### 4.3.2 gas_ele 0 총합"
   ]
  },
  {
   "cell_type": "code",
   "execution_count": 41,
   "metadata": {},
   "outputs": [],
   "source": [
    "df_all['gas_ele_zero_sum'] = (df_all[gas_ele_columns] == 0).sum(axis=1)"
   ]
  },
  {
   "cell_type": "code",
   "execution_count": 42,
   "metadata": {},
   "outputs": [],
   "source": [
    "df_all['gas_ele_zero_sum'].replace(120, 121, inplace=True)"
   ]
  },
  {
   "cell_type": "markdown",
   "metadata": {},
   "source": [
    "## 4.4. lw 데이터 처리"
   ]
  },
  {
   "cell_type": "code",
   "execution_count": 43,
   "metadata": {
    "scrolled": false
   },
   "outputs": [
    {
     "data": {
      "text/html": [
       "<div>\n",
       "<style scoped>\n",
       "    .dataframe tbody tr th:only-of-type {\n",
       "        vertical-align: middle;\n",
       "    }\n",
       "\n",
       "    .dataframe tbody tr th {\n",
       "        vertical-align: top;\n",
       "    }\n",
       "\n",
       "    .dataframe thead th {\n",
       "        text-align: right;\n",
       "    }\n",
       "</style>\n",
       "<table border=\"1\" class=\"dataframe\">\n",
       "  <thead>\n",
       "    <tr style=\"text-align: right;\">\n",
       "      <th></th>\n",
       "      <th>lw_13101010</th>\n",
       "      <th>lw_13101110</th>\n",
       "      <th>lw_13101210</th>\n",
       "      <th>lw_13101211</th>\n",
       "      <th>lw_13101310</th>\n",
       "      <th>lw_13101410</th>\n",
       "      <th>lw_13111010</th>\n",
       "      <th>lw_13111110</th>\n",
       "      <th>lw_13121010</th>\n",
       "      <th>lw_13121011</th>\n",
       "      <th>lw_13131010</th>\n",
       "      <th>lw_13131110</th>\n",
       "      <th>lw_13141010</th>\n",
       "      <th>lw_13141011</th>\n",
       "    </tr>\n",
       "  </thead>\n",
       "  <tbody>\n",
       "    <tr>\n",
       "      <th>0</th>\n",
       "      <td>-1.0</td>\n",
       "      <td>-1.0</td>\n",
       "      <td>-1.0</td>\n",
       "      <td>-1.0</td>\n",
       "      <td>-1.0</td>\n",
       "      <td>-1.0</td>\n",
       "      <td>-1.0</td>\n",
       "      <td>-1.0</td>\n",
       "      <td>-1.0</td>\n",
       "      <td>-1.0</td>\n",
       "      <td>-1.0</td>\n",
       "      <td>-1.0</td>\n",
       "      <td>-1.0</td>\n",
       "      <td>-1.0</td>\n",
       "    </tr>\n",
       "    <tr>\n",
       "      <th>1</th>\n",
       "      <td>-1.0</td>\n",
       "      <td>-1.0</td>\n",
       "      <td>-1.0</td>\n",
       "      <td>-1.0</td>\n",
       "      <td>-1.0</td>\n",
       "      <td>-1.0</td>\n",
       "      <td>-1.0</td>\n",
       "      <td>-1.0</td>\n",
       "      <td>-1.0</td>\n",
       "      <td>-1.0</td>\n",
       "      <td>-1.0</td>\n",
       "      <td>-1.0</td>\n",
       "      <td>-1.0</td>\n",
       "      <td>-1.0</td>\n",
       "    </tr>\n",
       "    <tr>\n",
       "      <th>2</th>\n",
       "      <td>-1.0</td>\n",
       "      <td>-1.0</td>\n",
       "      <td>-1.0</td>\n",
       "      <td>-1.0</td>\n",
       "      <td>-1.0</td>\n",
       "      <td>-1.0</td>\n",
       "      <td>-1.0</td>\n",
       "      <td>-1.0</td>\n",
       "      <td>-1.0</td>\n",
       "      <td>-1.0</td>\n",
       "      <td>-1.0</td>\n",
       "      <td>-1.0</td>\n",
       "      <td>-1.0</td>\n",
       "      <td>-1.0</td>\n",
       "    </tr>\n",
       "    <tr>\n",
       "      <th>3</th>\n",
       "      <td>-1.0</td>\n",
       "      <td>-1.0</td>\n",
       "      <td>-1.0</td>\n",
       "      <td>-1.0</td>\n",
       "      <td>-1.0</td>\n",
       "      <td>-1.0</td>\n",
       "      <td>-1.0</td>\n",
       "      <td>-1.0</td>\n",
       "      <td>-1.0</td>\n",
       "      <td>-1.0</td>\n",
       "      <td>-1.0</td>\n",
       "      <td>-1.0</td>\n",
       "      <td>-1.0</td>\n",
       "      <td>-1.0</td>\n",
       "    </tr>\n",
       "    <tr>\n",
       "      <th>4</th>\n",
       "      <td>-1.0</td>\n",
       "      <td>-1.0</td>\n",
       "      <td>-1.0</td>\n",
       "      <td>-1.0</td>\n",
       "      <td>-1.0</td>\n",
       "      <td>-1.0</td>\n",
       "      <td>-1.0</td>\n",
       "      <td>-1.0</td>\n",
       "      <td>-1.0</td>\n",
       "      <td>-1.0</td>\n",
       "      <td>-1.0</td>\n",
       "      <td>-1.0</td>\n",
       "      <td>-1.0</td>\n",
       "      <td>-1.0</td>\n",
       "    </tr>\n",
       "  </tbody>\n",
       "</table>\n",
       "</div>"
      ],
      "text/plain": [
       "   lw_13101010  lw_13101110  lw_13101210  lw_13101211  lw_13101310  \\\n",
       "0         -1.0         -1.0         -1.0         -1.0         -1.0   \n",
       "1         -1.0         -1.0         -1.0         -1.0         -1.0   \n",
       "2         -1.0         -1.0         -1.0         -1.0         -1.0   \n",
       "3         -1.0         -1.0         -1.0         -1.0         -1.0   \n",
       "4         -1.0         -1.0         -1.0         -1.0         -1.0   \n",
       "\n",
       "   lw_13101410  lw_13111010  lw_13111110  lw_13121010  lw_13121011  \\\n",
       "0         -1.0         -1.0         -1.0         -1.0         -1.0   \n",
       "1         -1.0         -1.0         -1.0         -1.0         -1.0   \n",
       "2         -1.0         -1.0         -1.0         -1.0         -1.0   \n",
       "3         -1.0         -1.0         -1.0         -1.0         -1.0   \n",
       "4         -1.0         -1.0         -1.0         -1.0         -1.0   \n",
       "\n",
       "   lw_13131010  lw_13131110  lw_13141010  lw_13141011  \n",
       "0         -1.0         -1.0         -1.0         -1.0  \n",
       "1         -1.0         -1.0         -1.0         -1.0  \n",
       "2         -1.0         -1.0         -1.0         -1.0  \n",
       "3         -1.0         -1.0         -1.0         -1.0  \n",
       "4         -1.0         -1.0         -1.0         -1.0  "
      ]
     },
     "execution_count": 43,
     "metadata": {},
     "output_type": "execute_result"
    }
   ],
   "source": [
    "df_lw = df_all[lw_columns]\n",
    "df_lw.head()"
   ]
  },
  {
   "cell_type": "code",
   "execution_count": 44,
   "metadata": {
    "scrolled": false
   },
   "outputs": [
    {
     "name": "stderr",
     "output_type": "stream",
     "text": [
      "C:\\Users\\Lee\\Anaconda3\\lib\\site-packages\\ipykernel_launcher.py:1: SettingWithCopyWarning: \n",
      "A value is trying to be set on a copy of a slice from a DataFrame.\n",
      "Try using .loc[row_indexer,col_indexer] = value instead\n",
      "\n",
      "See the caveats in the documentation: http://pandas.pydata.org/pandas-docs/stable/user_guide/indexing.html#returning-a-view-versus-a-copy\n",
      "  \"\"\"Entry point for launching an IPython kernel.\n"
     ]
    }
   ],
   "source": [
    "df_lw['lw_sum'] = df_lw.sum(axis=1)"
   ]
  },
  {
   "cell_type": "code",
   "execution_count": 45,
   "metadata": {},
   "outputs": [],
   "source": [
    "lw_list = []\n",
    "\n",
    "for value in df_lw['lw_sum']:\n",
    "    if value < 0:\n",
    "        lw_list.append(-1)\n",
    "    else:\n",
    "        lw_list.append(value)"
   ]
  },
  {
   "cell_type": "code",
   "execution_count": 46,
   "metadata": {},
   "outputs": [],
   "source": [
    "df_all['lw_sum'] = lw_list"
   ]
  },
  {
   "cell_type": "code",
   "execution_count": 47,
   "metadata": {},
   "outputs": [],
   "source": [
    "df_all.drop(lw_columns, axis=1, inplace=True)"
   ]
  },
  {
   "cell_type": "markdown",
   "metadata": {},
   "source": [
    "## 4.6. 파생 변수 (결측값의 총합, 이진 변수의 합, Target Encoding)"
   ]
  },
  {
   "cell_type": "markdown",
   "metadata": {},
   "source": [
    "### 4.6.1 결측값의 총합"
   ]
  },
  {
   "cell_type": "code",
   "execution_count": 48,
   "metadata": {
    "scrolled": true
   },
   "outputs": [],
   "source": [
    "df_all['missing'] = (df_all[binary_columns + category_columns + integer_columns + floats_columns + ['lw_sum', 'gas_ele_sum', 'from_athrztn_to_fr']] == -1).sum(axis=1).astype(float)"
   ]
  },
  {
   "cell_type": "markdown",
   "metadata": {},
   "source": [
    "# 5. 데이터 저장"
   ]
  },
  {
   "cell_type": "code",
   "execution_count": 49,
   "metadata": {},
   "outputs": [
    {
     "data": {
      "text/plain": [
       "Index(['ahsm_dstnc', 'bldng_ar', 'bldng_ar_prc', 'bldng_archtctr', 'bldng_cnt',\n",
       "       'bldng_cnt_in_50m', 'bldng_us', 'bldng_us_clssfctn',\n",
       "       'blk_dngrs_thng_mnfctr_yn', 'cctv_dstnc',\n",
       "       ...\n",
       "       'wnd_spd', 'dt_of_fr_year', 'dt_of_fr_month', 'dt_of_fr_day',\n",
       "       'dt_of_fr_hour', 'from_athrztn_to_fr', 'gas_ele_sum',\n",
       "       'gas_ele_zero_sum', 'lw_sum', 'missing'],\n",
       "      dtype='object', length=172)"
      ]
     },
     "execution_count": 49,
     "metadata": {},
     "output_type": "execute_result"
    }
   ],
   "source": [
    "df_all.columns"
   ]
  },
  {
   "cell_type": "code",
   "execution_count": 50,
   "metadata": {},
   "outputs": [],
   "source": [
    "features = ['ahsm_dstnc', 'bldng_ar', 'bldng_ar_prc', 'bldng_archtctr', 'bldng_cnt',\n",
    "           'bldng_cnt_in_50m', 'bldng_us', 'bldng_us_clssfctn',\n",
    "           'blk_dngrs_thng_mnfctr_yn', 'cctv_dstnc', 'cctv_in_100m',\n",
    "           'cltrl_hrtg_yn', 'dngrs_thng_yn', 'emd_nm',\n",
    "           'fr_fghtng_fclt_spcl_css_5_yn', 'fr_fghtng_fclt_spcl_css_6_yn',\n",
    "           'fr_mn_cnt', 'fr_sttn_dstnc', 'fr_wthr_fclt_dstnc',\n",
    "           'fr_wthr_fclt_in_100m', 'fr_yn', 'hm_cnt', 'hmdt', 'jmk', 'lnd_ar',\n",
    "           'lnd_us_sttn_nm', 'mlt_us_yn', 'no_tbc_zn_dstnc', 'prcpttn', 'rd_sd_nm',\n",
    "           'rgnl_ar_nm', 'rgnl_ar_nm2', 'sft_emrgnc_bll_dstnc', 'slf_fr_brgd_yn',\n",
    "           'tbc_rtl_str_dstnc', 'tmprtr', 'trgt_crtr', 'ttl_ar',\n",
    "           'ttl_grnd_flr', 'ttl_dwn_flr', 'us_yn', 'wnd_drctn', 'wnd_spd', 'dt_of_fr_year',\n",
    "           'dt_of_fr_month', 'dt_of_fr_day', 'dt_of_fr_hour', 'from_athrztn_to_fr',\n",
    "           'gas_ele_zero_sum', 'lw_sum', 'missing', 'gas_ele_sum']"
   ]
  },
  {
   "cell_type": "code",
   "execution_count": 51,
   "metadata": {},
   "outputs": [],
   "source": [
    "df_all = df_all[features]"
   ]
  },
  {
   "cell_type": "code",
   "execution_count": 52,
   "metadata": {},
   "outputs": [],
   "source": [
    "# 범주형 변수 label encoding\n",
    "\n",
    "for col in category_columns:\n",
    "    df_all[col], _ = df_all[col].factorize(na_sentinel=-1)"
   ]
  },
  {
   "cell_type": "code",
   "execution_count": 53,
   "metadata": {},
   "outputs": [],
   "source": [
    "train_len = len(df_train)\n",
    "valid_len = train_len + len(df_valid)\n",
    "test_len = valid_len + len(df_test)\n",
    "\n",
    "df_train = df_all.iloc[:train_len]\n",
    "df_valid = df_all.iloc[train_len:valid_len]\n",
    "df_test = df_all.iloc[valid_len:test_len]"
   ]
  },
  {
   "cell_type": "markdown",
   "metadata": {},
   "source": [
    "# LightGBM"
   ]
  },
  {
   "cell_type": "code",
   "execution_count": 54,
   "metadata": {},
   "outputs": [],
   "source": [
    "def plot_feature_importance(model, X_train, figsize=(12, 6)):\n",
    "    sns.set_style('darkgrid')\n",
    "    \n",
    "    # Plot feature importance\n",
    "    feature_importance = model.feature_importances_\n",
    "    feature_importance = 100.0 * (feature_importance / feature_importance.max())\n",
    "    sorted_idx = np.argsort(feature_importance)\n",
    "    pos = np.arange(sorted_idx.shape[0]) + .5\n",
    "\n",
    "    plt.figure(figsize=figsize)\n",
    "    plt.barh(pos, feature_importance[sorted_idx], align='center')\n",
    "    plt.yticks(pos, X_train.columns[sorted_idx])\n",
    "    plt.xlabel('Relative Importance')\n",
    "    plt.title('Variable Importance')\n",
    "    plt.show()\n",
    "\n",
    "def f1_score_optimizer(model, X_test, y_test):\n",
    "    scores = []\n",
    "    thds = []\n",
    "    for thd in tqdm(np.linspace(0.35, 0.75, 41)):\n",
    "        y_pred_prob = model.predict_proba(X_test)\n",
    "        y_pred = [0 if i >= thd else 1 for i in y_pred_prob[:,0]]\n",
    "        scores.append(f1_score(y_test, y_pred))\n",
    "        thds.append(thd)\n",
    "    print(thds[scores.index(max(scores))], max(scores))\n",
    "    print()\n",
    "    return thds[scores.index(max(scores))], max(scores)\n",
    "\n",
    "def f1_score_optimizer_2(y_valid, y_prob):\n",
    "    scores = []\n",
    "    thds = []\n",
    "    for thd in tqdm(np.linspace(0.35, 0.75, 41)):\n",
    "        y_pred = [0 if i >= thd else 1 for i in y_prob]\n",
    "        scores.append(f1_score(y_valid, y_pred))\n",
    "        thds.append(thd)\n",
    "    print(thds[scores.index(max(scores))], max(scores))\n",
    "    print()\n",
    "    return thds[scores.index(max(scores))], max(scores)\n",
    "\n",
    "def fit_lgb(X_fit, y_fit, X_val, y_val):\n",
    "    \n",
    "    model = lgb.LGBMClassifier(**{'learning_rate': 0.02,\n",
    "                                'num_leaves': 31,\n",
    "                                'max_bin': 1023,\n",
    "                                'min_child_samples': 1000,\n",
    "                                'reg_alpha': 0.1,\n",
    "                                'reg_lambda': 0.2,\n",
    "                                'feature_fraction': 1.0,\n",
    "                                'bagging_freq': 1,\n",
    "                                'bagging_fraction': 0.85,\n",
    "                                'objective': 'binary',\n",
    "                                'n_jobs': -1,\n",
    "                                'n_estimators':500,\n",
    "                                'tree_learner': 'serial',})\n",
    "     \n",
    "    model = model.fit( X_fit, y_fit,\n",
    "                      eval_set = (X_val, y_val),\n",
    "                      verbose = 20,\n",
    "                      eval_metric='f1_score',\n",
    "                      early_stopping_rounds=25,\n",
    "                      #categorical_feature = categorical_featuer_num_fix\n",
    "                        )\n",
    "    LB_MODELS.append(model)\n",
    "    \"\"\"\n",
    "    y_pred = model.predict(X_valid)\n",
    "    \n",
    "    lb_f1_eval_list.append(f1_score(y_valid, y_pred))\n",
    "    \n",
    "    lg_thd, lg_score = f1_score_optimizer(model, X_valid, y_valid)\n",
    "    \n",
    "    lg_thds.append(lg_thd)\n",
    "    lg_scores.append(lg_score)\n",
    "    \"\"\"\n",
    "    cv_val = model.predict_proba(X_test)[:,0]\n",
    "    \n",
    "    return cv_val"
   ]
  },
  {
   "cell_type": "code",
   "execution_count": 55,
   "metadata": {
    "scrolled": false
   },
   "outputs": [
    {
     "name": "stderr",
     "output_type": "stream",
     "text": [
      "C:\\Users\\Lee\\Anaconda3\\lib\\site-packages\\pandas\\core\\frame.py:3509: SettingWithCopyWarning: \n",
      "A value is trying to be set on a copy of a slice from a DataFrame.\n",
      "Try using .loc[row_indexer,col_indexer] = value instead\n",
      "\n",
      "See the caveats in the documentation: http://pandas.pydata.org/pandas-docs/stable/user_guide/indexing.html#returning-a-view-versus-a-copy\n",
      "  self[k1] = value[k2]\n"
     ]
    },
    {
     "name": "stdout",
     "output_type": "stream",
     "text": [
      "\n",
      "Model Fitting...\n",
      "Fold: 0\n",
      "LigthGBM\n",
      "Training until validation scores don't improve for 25 rounds.\n",
      "[20]\tvalid_0's binary_logloss: 0.316198\n",
      "[40]\tvalid_0's binary_logloss: 0.282428\n",
      "[60]\tvalid_0's binary_logloss: 0.263648\n",
      "[80]\tvalid_0's binary_logloss: 0.252656\n",
      "[100]\tvalid_0's binary_logloss: 0.245893\n",
      "[120]\tvalid_0's binary_logloss: 0.241616\n",
      "[140]\tvalid_0's binary_logloss: 0.238828\n",
      "[160]\tvalid_0's binary_logloss: 0.236969\n",
      "[180]\tvalid_0's binary_logloss: 0.235797\n",
      "[200]\tvalid_0's binary_logloss: 0.234932\n",
      "[220]\tvalid_0's binary_logloss: 0.234318\n",
      "[240]\tvalid_0's binary_logloss: 0.233896\n",
      "[260]\tvalid_0's binary_logloss: 0.233584\n",
      "[280]\tvalid_0's binary_logloss: 0.233431\n",
      "[300]\tvalid_0's binary_logloss: 0.233359\n",
      "[320]\tvalid_0's binary_logloss: 0.233192\n",
      "[340]\tvalid_0's binary_logloss: 0.233094\n",
      "[360]\tvalid_0's binary_logloss: 0.233073\n",
      "[380]\tvalid_0's binary_logloss: 0.233103\n",
      "Early stopping, best iteration is:\n",
      "[356]\tvalid_0's binary_logloss: 0.233034\n",
      "Fold: 1\n",
      "LigthGBM\n",
      "Training until validation scores don't improve for 25 rounds.\n",
      "[20]\tvalid_0's binary_logloss: 0.315589\n",
      "[40]\tvalid_0's binary_logloss: 0.282509\n",
      "[60]\tvalid_0's binary_logloss: 0.26396\n",
      "[80]\tvalid_0's binary_logloss: 0.253023\n",
      "[100]\tvalid_0's binary_logloss: 0.246045\n",
      "[120]\tvalid_0's binary_logloss: 0.24159\n",
      "[140]\tvalid_0's binary_logloss: 0.238748\n",
      "[160]\tvalid_0's binary_logloss: 0.236855\n",
      "[180]\tvalid_0's binary_logloss: 0.235527\n",
      "[200]\tvalid_0's binary_logloss: 0.234759\n",
      "[220]\tvalid_0's binary_logloss: 0.234315\n",
      "[240]\tvalid_0's binary_logloss: 0.233872\n",
      "[260]\tvalid_0's binary_logloss: 0.233547\n",
      "[280]\tvalid_0's binary_logloss: 0.233309\n",
      "[300]\tvalid_0's binary_logloss: 0.233127\n",
      "[320]\tvalid_0's binary_logloss: 0.233\n",
      "[340]\tvalid_0's binary_logloss: 0.232991\n",
      "[360]\tvalid_0's binary_logloss: 0.232987\n",
      "[380]\tvalid_0's binary_logloss: 0.232958\n",
      "[400]\tvalid_0's binary_logloss: 0.232953\n",
      "[420]\tvalid_0's binary_logloss: 0.232833\n",
      "[440]\tvalid_0's binary_logloss: 0.232826\n",
      "Early stopping, best iteration is:\n",
      "[434]\tvalid_0's binary_logloss: 0.232801\n",
      "Fold: 2\n",
      "LigthGBM\n",
      "Training until validation scores don't improve for 25 rounds.\n",
      "[20]\tvalid_0's binary_logloss: 0.313134\n",
      "[40]\tvalid_0's binary_logloss: 0.2783\n",
      "[60]\tvalid_0's binary_logloss: 0.258572\n",
      "[80]\tvalid_0's binary_logloss: 0.24674\n",
      "[100]\tvalid_0's binary_logloss: 0.239466\n",
      "[120]\tvalid_0's binary_logloss: 0.234644\n",
      "[140]\tvalid_0's binary_logloss: 0.231474\n",
      "[160]\tvalid_0's binary_logloss: 0.229287\n",
      "[180]\tvalid_0's binary_logloss: 0.227814\n",
      "[200]\tvalid_0's binary_logloss: 0.226764\n",
      "[220]\tvalid_0's binary_logloss: 0.22598\n",
      "[240]\tvalid_0's binary_logloss: 0.225498\n",
      "[260]\tvalid_0's binary_logloss: 0.224865\n",
      "[280]\tvalid_0's binary_logloss: 0.224331\n",
      "[300]\tvalid_0's binary_logloss: 0.223928\n",
      "[320]\tvalid_0's binary_logloss: 0.223633\n",
      "[340]\tvalid_0's binary_logloss: 0.223501\n",
      "[360]\tvalid_0's binary_logloss: 0.22326\n",
      "[380]\tvalid_0's binary_logloss: 0.223191\n",
      "[400]\tvalid_0's binary_logloss: 0.223043\n",
      "[420]\tvalid_0's binary_logloss: 0.22305\n",
      "[440]\tvalid_0's binary_logloss: 0.223054\n",
      "Early stopping, best iteration is:\n",
      "[415]\tvalid_0's binary_logloss: 0.223008\n",
      "Fold: 3\n",
      "LigthGBM\n",
      "Training until validation scores don't improve for 25 rounds.\n",
      "[20]\tvalid_0's binary_logloss: 0.317062\n",
      "[40]\tvalid_0's binary_logloss: 0.284372\n",
      "[60]\tvalid_0's binary_logloss: 0.265169\n",
      "[80]\tvalid_0's binary_logloss: 0.253672\n",
      "[100]\tvalid_0's binary_logloss: 0.24635\n",
      "[120]\tvalid_0's binary_logloss: 0.241773\n",
      "[140]\tvalid_0's binary_logloss: 0.238719\n",
      "[160]\tvalid_0's binary_logloss: 0.236774\n",
      "[180]\tvalid_0's binary_logloss: 0.235515\n",
      "[200]\tvalid_0's binary_logloss: 0.234518\n",
      "[220]\tvalid_0's binary_logloss: 0.233854\n",
      "[240]\tvalid_0's binary_logloss: 0.233348\n",
      "[260]\tvalid_0's binary_logloss: 0.233026\n",
      "[280]\tvalid_0's binary_logloss: 0.232717\n",
      "[300]\tvalid_0's binary_logloss: 0.232632\n",
      "[320]\tvalid_0's binary_logloss: 0.2326\n",
      "[340]\tvalid_0's binary_logloss: 0.232605\n",
      "Early stopping, best iteration is:\n",
      "[329]\tvalid_0's binary_logloss: 0.23254\n",
      "Fold: 4\n",
      "LigthGBM\n",
      "Training until validation scores don't improve for 25 rounds.\n",
      "[20]\tvalid_0's binary_logloss: 0.315266\n",
      "[40]\tvalid_0's binary_logloss: 0.281249\n",
      "[60]\tvalid_0's binary_logloss: 0.262038\n",
      "[80]\tvalid_0's binary_logloss: 0.250656\n",
      "[100]\tvalid_0's binary_logloss: 0.243457\n",
      "[120]\tvalid_0's binary_logloss: 0.238817\n",
      "[140]\tvalid_0's binary_logloss: 0.23589\n",
      "[160]\tvalid_0's binary_logloss: 0.233703\n",
      "[180]\tvalid_0's binary_logloss: 0.232332\n",
      "[200]\tvalid_0's binary_logloss: 0.231253\n",
      "[220]\tvalid_0's binary_logloss: 0.230535\n",
      "[240]\tvalid_0's binary_logloss: 0.23001\n",
      "[260]\tvalid_0's binary_logloss: 0.229513\n",
      "[280]\tvalid_0's binary_logloss: 0.229233\n",
      "[300]\tvalid_0's binary_logloss: 0.229214\n",
      "[320]\tvalid_0's binary_logloss: 0.229075\n",
      "[340]\tvalid_0's binary_logloss: 0.229032\n",
      "[360]\tvalid_0's binary_logloss: 0.228906\n",
      "[380]\tvalid_0's binary_logloss: 0.228823\n",
      "[400]\tvalid_0's binary_logloss: 0.228807\n",
      "[420]\tvalid_0's binary_logloss: 0.228839\n",
      "Early stopping, best iteration is:\n",
      "[404]\tvalid_0's binary_logloss: 0.22876\n"
     ]
    }
   ],
   "source": [
    "lg_thds, lg_scores = [], []\n",
    "lb_f1_eval_list = []\n",
    "LB_MODELS = []\n",
    "\n",
    "category_columns = ['bldng_us', 'bldng_archtctr', 'bldng_us_clssfctn', 'jmk', 'rgnl_ar_nm', 'rgnl_ar_nm2', 'lnd_us_sttn_nm', 'rd_sd_nm',\n",
    "                    'emd_nm', 'trgt_crtr', 'us_yn']\n",
    "\n",
    "df_train[category_columns] = df_train[category_columns].astype('category')\n",
    "df_valid[category_columns] = df_valid[category_columns].astype('category')\n",
    "df_test[category_columns] = df_test[category_columns].astype('category')\n",
    "\n",
    "X_train = df_train.drop(['fr_yn'], axis=1)\n",
    "y_train = df_train['fr_yn']\n",
    "X_valid = df_valid.drop(['fr_yn'], axis=1)\n",
    "y_valid = df_valid['fr_yn']\n",
    "\n",
    "#X_train = pd.concat([df_train, df_valid], axis=0).drop(['fr_yn'], axis=1)\n",
    "#y_train = pd.concat([df_train, df_valid], axis=0)['fr_yn']\n",
    "\n",
    "X_test = df_test.drop(['fr_yn'], axis=1)\n",
    "y_test = df_test['fr_yn']\n",
    "\n",
    "X = X_train\n",
    "y = y_train\n",
    "\n",
    "X_train[category_columns] = X_train[category_columns].astype('category')\n",
    "\n",
    "lgb_cv_result = np.zeros(df_test.shape[0])\n",
    "\n",
    "skf = StratifiedKFold(n_splits=5, shuffle=True, random_state=40)\n",
    "\n",
    "print('\\nModel Fitting...')\n",
    "for fold_, (train_indexes, valid_indexes) in enumerate(skf.split(X, y)):\n",
    "    print('Fold:', fold_ )\n",
    "    X_fit, y_fit = X.iloc[train_indexes, :], y[train_indexes]\n",
    "    X_val, y_val = X.iloc[valid_indexes, :], y[valid_indexes]\n",
    "    \n",
    "    \"\"\"\n",
    "    for feature in tqdm(te_features):\n",
    "        map_dic = pd.DataFrame([X_fit[feature], y]).T.groupby(feature).agg('mean')\n",
    "        map_dic = map_dic.to_dict()['fr_yn']\n",
    "        X_fit[feature + '_target_enc'] = X_fit[feature].apply(lambda x: map_dic.get(x, 0)).astype(np.float64)\n",
    "        X_val[feature + '_target_enc'] = X_val[feature].apply(lambda x: map_dic.get(x, 0)).astype(np.float64)\n",
    "    \n",
    "        X_valid[feature + '_target_enc'] = X_valid[feature].apply(lambda x: map_dic.get(x, 0)).astype(np.float64)\n",
    "        X_test[feature + '_target_enc'] = X_test[feature].apply(lambda x: map_dic.get(x, 0)).astype(np.float64)\n",
    "    \"\"\"\n",
    "    \n",
    "    print('LigthGBM')\n",
    "    lgb_cv_result += fit_lgb(X_fit, y_fit, X_val, y_val)\n",
    "    \n",
    "    \"\"\"\n",
    "    print('CatBoost')\n",
    "    cb_cv_result += fit_cb(X_fit, y_fit, X_val, y_val)\n",
    "    \"\"\"\n",
    "    del X_fit, X_val, y_fit, y_val\n",
    "    gc.collect()\n",
    "\n",
    "lgb_cv_result /= 5"
   ]
  },
  {
   "cell_type": "markdown",
   "metadata": {},
   "source": [
    "# NN"
   ]
  },
  {
   "cell_type": "code",
   "execution_count": 56,
   "metadata": {},
   "outputs": [],
   "source": [
    "def nn_model():\n",
    "    inputs = []\n",
    "    embeddings = []\n",
    "    flatten_layers = []\n",
    "\n",
    "    inp_bldng_us = Input(shape=(1,))\n",
    "    embedding = Embedding(34, 16, input_length=1)(inp_bldng_us)\n",
    "    embedding = Reshape(target_shape=(16,))(embedding)\n",
    "    embedding = Dropout(0.25)(embedding)\n",
    "    inputs.append(inp_bldng_us)\n",
    "    embeddings.append(embedding)\n",
    "\n",
    "    inp_bldng_archtctr = Input(shape=(1,))\n",
    "    embedding = Embedding(18, 8, input_length=1)(inp_bldng_archtctr)\n",
    "    embedding = Reshape(target_shape=(8,))(embedding)\n",
    "    embedding = Dropout(0.25)(embedding)\n",
    "    inputs.append(inp_bldng_archtctr)\n",
    "    embeddings.append(embedding)\n",
    "\n",
    "    inp_bldng_us_clssfctn = Input(shape=(1,))\n",
    "    embedding = Embedding(7, 4, input_length=1)(inp_bldng_us_clssfctn)\n",
    "    embedding = Reshape(target_shape=(4,))(embedding)\n",
    "    embedding = Dropout(0.25)(embedding)\n",
    "    inputs.append(inp_bldng_us_clssfctn)\n",
    "    embeddings.append(embedding)\n",
    "\n",
    "    inp_jmk = Input(shape=(1,))\n",
    "    embedding = Embedding(25, 12, input_length=1)(inp_jmk)\n",
    "    embedding = Reshape(target_shape=(12,))(embedding)\n",
    "    embedding = Dropout(0.25)(embedding)\n",
    "    inputs.append(inp_jmk)\n",
    "    embeddings.append(embedding)\n",
    "\n",
    "    inp_rgnl_ar_nm = Input(shape=(1,))\n",
    "    embedding = Embedding(23, 10, input_length=1)(inp_rgnl_ar_nm)\n",
    "    embedding = Reshape(target_shape=(10,))(embedding)\n",
    "    embedding = Dropout(0.25)(embedding)\n",
    "    inputs.append(inp_rgnl_ar_nm)\n",
    "    embeddings.append(embedding)\n",
    "\n",
    "    inp_rgnl_ar_nm2 = Input(shape=(1,))\n",
    "    embedding = Embedding(19, 8, input_length=1)(inp_rgnl_ar_nm2)\n",
    "    embedding = Reshape(target_shape=(8,))(embedding)\n",
    "    embedding = Dropout(0.25)(embedding)\n",
    "    inputs.append(inp_rgnl_ar_nm2)\n",
    "    embeddings.append(embedding)\n",
    "\n",
    "    inp_lnd_us_sttn_nm = Input(shape=(1,))\n",
    "    embedding = Embedding(45, 24, input_length=1)(inp_lnd_us_sttn_nm)\n",
    "    embedding = Reshape(target_shape=(24,))(embedding)\n",
    "    embedding = Dropout(0.25)(embedding)\n",
    "    inputs.append(inp_lnd_us_sttn_nm)\n",
    "    embeddings.append(embedding)\n",
    "\n",
    "    inp_rd_sd_nm = Input(shape=(1,))\n",
    "    embedding = Embedding(13, 6, input_length=1)(inp_rd_sd_nm)\n",
    "    embedding = Reshape(target_shape=(6,))(embedding)\n",
    "    embedding = Dropout(0.25)(embedding)\n",
    "    inputs.append(inp_rd_sd_nm)\n",
    "    embeddings.append(embedding)\n",
    "\n",
    "    inp_emd_nm = Input(shape=(1,))\n",
    "    embedding = Embedding(371, 150, input_length=1)(inp_emd_nm)\n",
    "    embedding = Reshape(target_shape=(150,))(embedding)\n",
    "    embedding = Dropout(0.25)(embedding)\n",
    "    inputs.append(inp_emd_nm)\n",
    "    embeddings.append(embedding)\n",
    "\n",
    "    inp_trgt_crtr = Input(shape=(1,))\n",
    "    embedding = Embedding(17, 8, input_length=1)(inp_trgt_crtr)\n",
    "    embedding = Reshape(target_shape=(8,))(embedding)\n",
    "    embedding = Dropout(0.25)(embedding)\n",
    "    inputs.append(inp_trgt_crtr)\n",
    "    embeddings.append(embedding)\n",
    "\n",
    "    inp_us_yn = Input(shape=(1,))\n",
    "    embedding = Embedding(3, 2, input_length=1)(inp_us_yn)\n",
    "    embedding = Reshape(target_shape=(2,))(embedding)\n",
    "    embedding = Dropout(0.25)(embedding)\n",
    "    inputs.append(inp_us_yn)\n",
    "    embeddings.append(embedding)\n",
    "\n",
    "    input_numeric = Input(shape=(X_train.shape[1], ))\n",
    "    embedding_numeric = Dense(51)(input_numeric)\n",
    "    embeddings.append(embedding_numeric)\n",
    "    inputs.append(input_numeric)\n",
    "\n",
    "    \n",
    "    \"\"\"\n",
    "    print('embedding')\n",
    "    for e, c in enumerate(cat_fea):\n",
    "        input_c = Input(shape=(1, ), dtype='int32')\n",
    "        num_c = max_cat_values[e]\n",
    "        embed_c = Embedding(num_c, 6, input_length=1)(input_c)\n",
    "        embed_c = Dropout(0.25)(embed_c)\n",
    "        flatten_c = Flatten()(embed_c)\n",
    "        \n",
    "        inputs.append(input_c)\n",
    "        flatten_layers.append(flatten_c)\n",
    "    \n",
    "    input_num = Input(shape=(X_train.shape[1], ), dtype='float32')\n",
    "    flatten_layers.append(input_num)\n",
    "    inputs.append(input_num)\n",
    "    \"\"\"\n",
    "    print('flatten')\n",
    "    flatten = Concatenate()(embeddings)\n",
    "    \n",
    "    fc1 = Dense(512, init='he_normal')(flatten)\n",
    "    fc1 = PReLU()(fc1)\n",
    "    fc1 = BatchNormalization()(fc1)\n",
    "    fc1 = Dropout(0.75)(fc1)\n",
    "    \n",
    "    fc1 = Dense(64, init='he_normal')(fc1)\n",
    "    fc1 = PReLU()(fc1)\n",
    "    fc1 = BatchNormalization()(fc1)\n",
    "    fc1 = Dropout(0.5)(fc1)\n",
    "    \n",
    "    outputs = Dense(1, init='he_normal', activation='sigmoid')(fc1)\n",
    "    print('model')\n",
    "    model = Model(input = inputs, output = outputs)\n",
    "    model.compile(loss='binary_crossentropy', optimizer='adam', metrics=['acc'])\n",
    "    return (model)"
   ]
  },
  {
   "cell_type": "code",
   "execution_count": 57,
   "metadata": {},
   "outputs": [
    {
     "name": "stderr",
     "output_type": "stream",
     "text": [
      "C:\\Users\\Lee\\Anaconda3\\lib\\site-packages\\ipykernel_launcher.py:47: FutureWarning: Method .as_matrix will be removed in a future version. Use .values instead.\n",
      "C:\\Users\\Lee\\Anaconda3\\lib\\site-packages\\ipykernel_launcher.py:48: FutureWarning: Method .as_matrix will be removed in a future version. Use .values instead.\n",
      "C:\\Users\\Lee\\Anaconda3\\lib\\site-packages\\ipykernel_launcher.py:49: FutureWarning: Method .as_matrix will be removed in a future version. Use .values instead.\n"
     ]
    }
   ],
   "source": [
    "y = df_all['fr_yn']\n",
    "df_all.drop('fr_yn', axis=1, inplace=True)\n",
    "\n",
    "cat_fea = ['bldng_us', 'bldng_archtctr', 'bldng_us_clssfctn', 'jmk', 'rgnl_ar_nm', 'rgnl_ar_nm2', 'lnd_us_sttn_nm', 'rd_sd_nm',\n",
    "                        'emd_nm', 'trgt_crtr', 'us_yn']\n",
    "num_fea = []\n",
    "for col in df_all.columns:\n",
    "    if col not in cat_fea:\n",
    "        num_fea.append(col)\n",
    "\n",
    "train_cat = df_all.iloc[:train_len][cat_fea]\n",
    "train_num = df_all.iloc[:train_len][num_fea]\n",
    "y_train = y[:train_len]\n",
    "\n",
    "valid_cat = df_all.iloc[train_len:valid_len][cat_fea]\n",
    "valid_num = df_all.iloc[train_len:valid_len][num_fea]\n",
    "y_valid = y[train_len:valid_len]\n",
    "\n",
    "test_cat = df_all.iloc[valid_len:test_len][cat_fea]\n",
    "test_num = df_all.iloc[valid_len:test_len][num_fea]\n",
    "y_test = y[valid_len:]\n",
    "\n",
    "\n",
    "max_cat_values = []\n",
    "for col in cat_fea:\n",
    "    max_cat_values.append(np.max(df_all[col]))\n",
    "\n",
    "train_list = [train_num, train_cat]\n",
    "valid_list = [valid_num, valid_cat]\n",
    "test_list = [test_num, test_cat]\n",
    "\n",
    "\n",
    "X_train = sparse.hstack(train_list).tocsr()\n",
    "X_valid = sparse.hstack(valid_list).tocsr()\n",
    "X_test = sparse.hstack(test_list).tocsr()\n",
    "\n",
    "all_data = np.vstack([X_train.toarray(), X_valid.toarray(), X_test.toarray()])\n",
    "\n",
    "scaler = StandardScaler()\n",
    "scaler.fit(all_data)\n",
    "\n",
    "X_train = scaler.transform(X_train.toarray())\n",
    "X_valid = scaler.transform(X_valid.toarray())\n",
    "X_test = scaler.transform(X_test.toarray())\n",
    "\n",
    "\n",
    "X_train_cat = train_cat.as_matrix()\n",
    "X_valid_cat = valid_cat.as_matrix()\n",
    "X_test_cat = test_cat.as_matrix()\n",
    "\n",
    "x_valid_cat = []\n",
    "for i in range(X_valid_cat.shape[1]):\n",
    "    x_valid_cat.append(X_valid_cat[:, i].reshape(-1, 1))\n",
    "x_valid_cat.append(X_valid)\n",
    "\n",
    "x_test_cat = []\n",
    "for i in range(X_test_cat.shape[1]):\n",
    "    x_test_cat.append(X_test_cat[:, i].reshape(-1, 1))\n",
    "x_test_cat.append(X_test)\n",
    "\n",
    "\n",
    "xtr = X_train\n",
    "ytr = y_train\n",
    "\n",
    "xvl = X_valid\n",
    "yvl = y_valid\n",
    "\n",
    "xts = X_test\n",
    "yts = y_test\n",
    "\n",
    "\n",
    "xtr_cat = X_train_cat\n",
    "xvl_cat = X_valid_cat\n",
    "xts_cat = X_test_cat\n",
    "\n",
    "# 범주형 데이터를 추출하여, 수치형 데이터와 통합한다\n",
    "xtr_cat_list, xvl_cat_list, xts_cat_list = [], [], []\n",
    "for i in range(xtr_cat.shape[1]):\n",
    "    xtr_cat_list.append(xtr_cat[:, i].reshape(-1, 1))\n",
    "    xvl_cat_list.append(xvl_cat[:, i].reshape(-1, 1))\n",
    "for i in range(xts_cat.shape[1]):\n",
    "    xts_cat_list.append(xts_cat[:, i].reshape(-1, 1))\n",
    "xtr_cat_list.append(xtr)\n",
    "xvl_cat_list.append(xvl)\n",
    "xts_cat_list.append(xts)"
   ]
  },
  {
   "cell_type": "code",
   "execution_count": 58,
   "metadata": {},
   "outputs": [
    {
     "name": "stdout",
     "output_type": "stream",
     "text": [
      "flatten\n"
     ]
    },
    {
     "name": "stderr",
     "output_type": "stream",
     "text": [
      "C:\\Users\\Lee\\Anaconda3\\lib\\site-packages\\ipykernel_launcher.py:108: UserWarning: Update your `Dense` call to the Keras 2 API: `Dense(512, kernel_initializer=\"he_normal\")`\n",
      "C:\\Users\\Lee\\Anaconda3\\lib\\site-packages\\ipykernel_launcher.py:113: UserWarning: Update your `Dense` call to the Keras 2 API: `Dense(64, kernel_initializer=\"he_normal\")`\n",
      "C:\\Users\\Lee\\Anaconda3\\lib\\site-packages\\ipykernel_launcher.py:118: UserWarning: Update your `Dense` call to the Keras 2 API: `Dense(1, activation=\"sigmoid\", kernel_initializer=\"he_normal\")`\n"
     ]
    },
    {
     "name": "stdout",
     "output_type": "stream",
     "text": [
      "model\n"
     ]
    },
    {
     "name": "stderr",
     "output_type": "stream",
     "text": [
      "C:\\Users\\Lee\\Anaconda3\\lib\\site-packages\\ipykernel_launcher.py:120: UserWarning: Update your `Model` call to the Keras 2 API: `Model(inputs=[<tf.Tenso..., outputs=Tensor(\"de...)`\n"
     ]
    },
    {
     "name": "stdout",
     "output_type": "stream",
     "text": [
      "Train on 59199 samples, validate on 6898 samples\n",
      "Epoch 1/30\n",
      " - 4s - loss: 0.6524 - acc: 0.7105 - val_loss: 0.5866 - val_acc: 0.7296\n",
      "Epoch 2/30\n",
      " - 1s - loss: 0.4119 - acc: 0.8447 - val_loss: 0.5360 - val_acc: 0.7562\n",
      "Epoch 3/30\n",
      " - 1s - loss: 0.3308 - acc: 0.8711 - val_loss: 0.4252 - val_acc: 0.8197\n",
      "Epoch 4/30\n",
      " - 1s - loss: 0.3034 - acc: 0.8776 - val_loss: 0.4140 - val_acc: 0.8226\n",
      "Epoch 5/30\n",
      " - 1s - loss: 0.2794 - acc: 0.8818 - val_loss: 0.4016 - val_acc: 0.8295\n",
      "Epoch 6/30\n",
      " - 1s - loss: 0.2671 - acc: 0.8850 - val_loss: 0.3859 - val_acc: 0.8443\n",
      "Epoch 7/30\n",
      " - 1s - loss: 0.2567 - acc: 0.8885 - val_loss: 0.3851 - val_acc: 0.8449\n",
      "Epoch 8/30\n",
      " - 1s - loss: 0.2533 - acc: 0.8877 - val_loss: 0.3808 - val_acc: 0.8471\n",
      "Epoch 9/30\n",
      " - 1s - loss: 0.2474 - acc: 0.8893 - val_loss: 0.3825 - val_acc: 0.8407\n",
      "Epoch 10/30\n",
      " - 1s - loss: 0.2445 - acc: 0.8893 - val_loss: 0.3780 - val_acc: 0.8463\n",
      "Epoch 11/30\n",
      " - 1s - loss: 0.2413 - acc: 0.8906 - val_loss: 0.3871 - val_acc: 0.8401\n",
      "Epoch 12/30\n",
      " - 1s - loss: 0.2386 - acc: 0.8919 - val_loss: 0.3764 - val_acc: 0.8475\n",
      "Epoch 13/30\n",
      " - 1s - loss: 0.2375 - acc: 0.8930 - val_loss: 0.3800 - val_acc: 0.8446\n",
      "Epoch 14/30\n",
      " - 1s - loss: 0.2362 - acc: 0.8932 - val_loss: 0.3809 - val_acc: 0.8421\n",
      "Epoch 15/30\n",
      " - 1s - loss: 0.2343 - acc: 0.8927 - val_loss: 0.3832 - val_acc: 0.8429\n",
      "Epoch 16/30\n",
      " - 1s - loss: 0.2328 - acc: 0.8933 - val_loss: 0.3821 - val_acc: 0.8411\n",
      "Epoch 17/30\n",
      " - 1s - loss: 0.2315 - acc: 0.8945 - val_loss: 0.3867 - val_acc: 0.8360\n",
      "Epoch 00017: early stopping\n"
     ]
    },
    {
     "data": {
      "text/plain": [
       "<keras.callbacks.History at 0x1f281abf908>"
      ]
     },
     "execution_count": 58,
     "metadata": {},
     "output_type": "execute_result"
    }
   ],
   "source": [
    "# 인공 신경망 모델을 정의한다\n",
    "model = nn_model()\n",
    "\n",
    "# 모델을 학습한다\n",
    "early_stopping = EarlyStopping(monitor='val_acc', patience=5, verbose=1, mode='auto')\n",
    "model.fit(xtr_cat_list, ytr, epochs=30, batch_size=512, verbose=2, validation_data=[xvl_cat_list, yvl], callbacks=[early_stopping])"
   ]
  }
 ],
 "metadata": {
  "kernelspec": {
   "display_name": "Python 3",
   "language": "python",
   "name": "python3"
  },
  "language_info": {
   "codemirror_mode": {
    "name": "ipython",
    "version": 3
   },
   "file_extension": ".py",
   "mimetype": "text/x-python",
   "name": "python",
   "nbconvert_exporter": "python",
   "pygments_lexer": "ipython3",
   "version": "3.6.8"
  }
 },
 "nbformat": 4,
 "nbformat_minor": 2
}
